{
 "cells": [
  {
   "cell_type": "markdown",
   "metadata": {},
   "source": [
    "<h1><center>MDI343 / MDI724 - TP1 Avazu<center></h1>"
   ]
  },
  {
   "cell_type": "markdown",
   "metadata": {},
   "source": [
    "#### For any remark or suggestion, please feel free to contact us at: \n",
    "#### pascal.bianchi@telecom-paristech.fr\n",
    "#### nidham.gazagnadou@telecom-paristech.fr\n",
    "#### kevin.elgui@gmail.com\n",
    "\n"
   ]
  },
  {
   "cell_type": "markdown",
   "metadata": {},
   "source": [
    "## First name : Weijia\n",
    "## Last name : DU\n",
    "\n",
    "## First name : Pakiradhaan\n",
    "## Last name : PARAMESWARAN\n",
    "\n",
    "## Email : weijia.dudu@gmail.com, pakiradhaan@gmail.com"
   ]
  },
  {
   "cell_type": "markdown",
   "metadata": {},
   "source": [
    "<font color=\"red\">**Question 0:**\n",
    "    Import the needed packages: numpy, pandas etc..\n",
    "</font>"
   ]
  },
  {
   "cell_type": "code",
   "execution_count": 1,
   "metadata": {},
   "outputs": [],
   "source": [
    "import numpy as np\n",
    "import pandas as pd\n",
    "import matplotlib.pyplot as plt\n",
    "import seaborn as sns\n",
    "import datetime\n",
    "%matplotlib inline"
   ]
  },
  {
   "cell_type": "markdown",
   "metadata": {},
   "source": [
    "# The dataset"
   ]
  },
  {
   "cell_type": "markdown",
   "metadata": {},
   "source": [
    "<font color=\"red\">**Question 1:**\n",
    "    Load the data into a pandas DataFrame and display the first lines with the \".head()\" method.\n",
    "    <br>\n",
    "</font>\n",
    "**Remark**: the features meaning is available at https://www.kaggle.com/c/avazu-ctr-prediction/data"
   ]
  },
  {
   "cell_type": "code",
   "execution_count": 2,
   "metadata": {},
   "outputs": [],
   "source": [
    "df = pd.read_csv('/home/weijia/machine_learning/TP8/train-1000000')"
   ]
  },
  {
   "cell_type": "code",
   "execution_count": 3,
   "metadata": {},
   "outputs": [
    {
     "data": {
      "text/html": [
       "<div>\n",
       "<style scoped>\n",
       "    .dataframe tbody tr th:only-of-type {\n",
       "        vertical-align: middle;\n",
       "    }\n",
       "\n",
       "    .dataframe tbody tr th {\n",
       "        vertical-align: top;\n",
       "    }\n",
       "\n",
       "    .dataframe thead th {\n",
       "        text-align: right;\n",
       "    }\n",
       "</style>\n",
       "<table border=\"1\" class=\"dataframe\">\n",
       "  <thead>\n",
       "    <tr style=\"text-align: right;\">\n",
       "      <th></th>\n",
       "      <th>id</th>\n",
       "      <th>click</th>\n",
       "      <th>hour</th>\n",
       "      <th>C1</th>\n",
       "      <th>banner_pos</th>\n",
       "      <th>site_id</th>\n",
       "      <th>site_domain</th>\n",
       "      <th>site_category</th>\n",
       "      <th>app_id</th>\n",
       "      <th>app_domain</th>\n",
       "      <th>...</th>\n",
       "      <th>device_type</th>\n",
       "      <th>device_conn_type</th>\n",
       "      <th>C14</th>\n",
       "      <th>C15</th>\n",
       "      <th>C16</th>\n",
       "      <th>C17</th>\n",
       "      <th>C18</th>\n",
       "      <th>C19</th>\n",
       "      <th>C20</th>\n",
       "      <th>C21</th>\n",
       "    </tr>\n",
       "  </thead>\n",
       "  <tbody>\n",
       "    <tr>\n",
       "      <th>0</th>\n",
       "      <td>3.983206e+18</td>\n",
       "      <td>0</td>\n",
       "      <td>14102915</td>\n",
       "      <td>1005</td>\n",
       "      <td>1</td>\n",
       "      <td>e151e245</td>\n",
       "      <td>7e091613</td>\n",
       "      <td>f028772b</td>\n",
       "      <td>ecad2386</td>\n",
       "      <td>7801e8d9</td>\n",
       "      <td>...</td>\n",
       "      <td>1</td>\n",
       "      <td>2</td>\n",
       "      <td>4687</td>\n",
       "      <td>320</td>\n",
       "      <td>50</td>\n",
       "      <td>423</td>\n",
       "      <td>2</td>\n",
       "      <td>39</td>\n",
       "      <td>100148</td>\n",
       "      <td>32</td>\n",
       "    </tr>\n",
       "    <tr>\n",
       "      <th>1</th>\n",
       "      <td>7.756884e+18</td>\n",
       "      <td>0</td>\n",
       "      <td>14103007</td>\n",
       "      <td>1002</td>\n",
       "      <td>0</td>\n",
       "      <td>cb809abf</td>\n",
       "      <td>74acf31a</td>\n",
       "      <td>50e219e0</td>\n",
       "      <td>ecad2386</td>\n",
       "      <td>7801e8d9</td>\n",
       "      <td>...</td>\n",
       "      <td>0</td>\n",
       "      <td>0</td>\n",
       "      <td>17894</td>\n",
       "      <td>320</td>\n",
       "      <td>50</td>\n",
       "      <td>2039</td>\n",
       "      <td>2</td>\n",
       "      <td>39</td>\n",
       "      <td>100077</td>\n",
       "      <td>32</td>\n",
       "    </tr>\n",
       "    <tr>\n",
       "      <th>2</th>\n",
       "      <td>6.941774e+17</td>\n",
       "      <td>0</td>\n",
       "      <td>14102711</td>\n",
       "      <td>1005</td>\n",
       "      <td>0</td>\n",
       "      <td>85f751fd</td>\n",
       "      <td>c4e18dd6</td>\n",
       "      <td>50e219e0</td>\n",
       "      <td>e9739828</td>\n",
       "      <td>df32afa9</td>\n",
       "      <td>...</td>\n",
       "      <td>1</td>\n",
       "      <td>0</td>\n",
       "      <td>22684</td>\n",
       "      <td>320</td>\n",
       "      <td>50</td>\n",
       "      <td>2619</td>\n",
       "      <td>1</td>\n",
       "      <td>163</td>\n",
       "      <td>100055</td>\n",
       "      <td>71</td>\n",
       "    </tr>\n",
       "    <tr>\n",
       "      <th>3</th>\n",
       "      <td>2.664154e+18</td>\n",
       "      <td>1</td>\n",
       "      <td>14102903</td>\n",
       "      <td>1005</td>\n",
       "      <td>0</td>\n",
       "      <td>85f751fd</td>\n",
       "      <td>c4e18dd6</td>\n",
       "      <td>50e219e0</td>\n",
       "      <td>a5184c22</td>\n",
       "      <td>b8d325c3</td>\n",
       "      <td>...</td>\n",
       "      <td>1</td>\n",
       "      <td>0</td>\n",
       "      <td>23222</td>\n",
       "      <td>320</td>\n",
       "      <td>50</td>\n",
       "      <td>2676</td>\n",
       "      <td>0</td>\n",
       "      <td>35</td>\n",
       "      <td>100176</td>\n",
       "      <td>221</td>\n",
       "    </tr>\n",
       "    <tr>\n",
       "      <th>4</th>\n",
       "      <td>1.480510e+19</td>\n",
       "      <td>0</td>\n",
       "      <td>14102902</td>\n",
       "      <td>1005</td>\n",
       "      <td>1</td>\n",
       "      <td>791b5571</td>\n",
       "      <td>fd13bc73</td>\n",
       "      <td>f028772b</td>\n",
       "      <td>ecad2386</td>\n",
       "      <td>7801e8d9</td>\n",
       "      <td>...</td>\n",
       "      <td>1</td>\n",
       "      <td>0</td>\n",
       "      <td>8330</td>\n",
       "      <td>320</td>\n",
       "      <td>50</td>\n",
       "      <td>761</td>\n",
       "      <td>3</td>\n",
       "      <td>175</td>\n",
       "      <td>100081</td>\n",
       "      <td>23</td>\n",
       "    </tr>\n",
       "  </tbody>\n",
       "</table>\n",
       "<p>5 rows × 24 columns</p>\n",
       "</div>"
      ],
      "text/plain": [
       "             id  click      hour    C1  banner_pos   site_id site_domain  \\\n",
       "0  3.983206e+18      0  14102915  1005           1  e151e245    7e091613   \n",
       "1  7.756884e+18      0  14103007  1002           0  cb809abf    74acf31a   \n",
       "2  6.941774e+17      0  14102711  1005           0  85f751fd    c4e18dd6   \n",
       "3  2.664154e+18      1  14102903  1005           0  85f751fd    c4e18dd6   \n",
       "4  1.480510e+19      0  14102902  1005           1  791b5571    fd13bc73   \n",
       "\n",
       "  site_category    app_id app_domain ...  device_type device_conn_type    C14  \\\n",
       "0      f028772b  ecad2386   7801e8d9 ...            1                2   4687   \n",
       "1      50e219e0  ecad2386   7801e8d9 ...            0                0  17894   \n",
       "2      50e219e0  e9739828   df32afa9 ...            1                0  22684   \n",
       "3      50e219e0  a5184c22   b8d325c3 ...            1                0  23222   \n",
       "4      f028772b  ecad2386   7801e8d9 ...            1                0   8330   \n",
       "\n",
       "   C15  C16   C17  C18  C19     C20  C21  \n",
       "0  320   50   423    2   39  100148   32  \n",
       "1  320   50  2039    2   39  100077   32  \n",
       "2  320   50  2619    1  163  100055   71  \n",
       "3  320   50  2676    0   35  100176  221  \n",
       "4  320   50   761    3  175  100081   23  \n",
       "\n",
       "[5 rows x 24 columns]"
      ]
     },
     "execution_count": 3,
     "metadata": {},
     "output_type": "execute_result"
    }
   ],
   "source": [
    "df.head()"
   ]
  },
  {
   "cell_type": "markdown",
   "metadata": {},
   "source": [
    "<font color=\"red\">**Question 2:**\n",
    "    What is the 'click' frequency in the dataset?\n",
    "    <br>\n",
    "</font>"
   ]
  },
  {
   "cell_type": "code",
   "execution_count": 4,
   "metadata": {},
   "outputs": [
    {
     "data": {
      "text/plain": [
       "click\n",
       "0    830029\n",
       "1    169971\n",
       "Name: click, dtype: int64"
      ]
     },
     "execution_count": 4,
     "metadata": {},
     "output_type": "execute_result"
    }
   ],
   "source": [
    "df['click'].groupby(df['click']).agg('count')"
   ]
  },
  {
   "cell_type": "markdown",
   "metadata": {},
   "source": [
    "We note that the Avazu dataset is very unbalanced. The 'click' class represents less than a fifth of the whole database. We already know that a classifier always predicting 'click'=0 will have good preformances in terms of error rate (around 0.17). The ROC and lift curves will be better performance metrics."
   ]
  },
  {
   "cell_type": "markdown",
   "metadata": {},
   "source": [
    "<font color=\"red\">**Question 3:**\n",
    "    What are the categorical features? Using the 'df.dtypes' method, compute the number of distincts values for each of these features.\n",
    "</font>"
   ]
  },
  {
   "cell_type": "code",
   "execution_count": 5,
   "metadata": {},
   "outputs": [
    {
     "data": {
      "text/plain": [
       "id                  float64\n",
       "click                 int64\n",
       "hour                  int64\n",
       "C1                    int64\n",
       "banner_pos            int64\n",
       "site_id              object\n",
       "site_domain          object\n",
       "site_category        object\n",
       "app_id               object\n",
       "app_domain           object\n",
       "app_category         object\n",
       "device_id            object\n",
       "device_ip            object\n",
       "device_model         object\n",
       "device_type           int64\n",
       "device_conn_type      int64\n",
       "C14                   int64\n",
       "C15                   int64\n",
       "C16                   int64\n",
       "C17                   int64\n",
       "C18                   int64\n",
       "C19                   int64\n",
       "C20                   int64\n",
       "C21                   int64\n",
       "dtype: object"
      ]
     },
     "execution_count": 5,
     "metadata": {},
     "output_type": "execute_result"
    }
   ],
   "source": [
    "df.dtypes"
   ]
  },
  {
   "cell_type": "code",
   "execution_count": 6,
   "metadata": {},
   "outputs": [
    {
     "data": {
      "text/plain": [
       "id                  1000000\n",
       "click                     2\n",
       "hour                    240\n",
       "C1                        7\n",
       "banner_pos                7\n",
       "site_id                2651\n",
       "site_domain            2871\n",
       "site_category            22\n",
       "app_id                 3157\n",
       "app_domain              198\n",
       "app_category             26\n",
       "device_id            150501\n",
       "device_ip            555248\n",
       "device_model           5168\n",
       "device_type               5\n",
       "device_conn_type          4\n",
       "C14                    2243\n",
       "C15                       8\n",
       "C16                       9\n",
       "C17                     420\n",
       "C18                       4\n",
       "C19                      66\n",
       "C20                     163\n",
       "C21                      60\n",
       "dtype: int64"
      ]
     },
     "execution_count": 6,
     "metadata": {},
     "output_type": "execute_result"
    }
   ],
   "source": [
    "df_features_count = df.nunique()\n",
    "df_features_count"
   ]
  },
  {
   "cell_type": "markdown",
   "metadata": {},
   "source": [
    "<font color=\"red\">**Question 4:**\n",
    "    If one does a dummy encoding of all categorical variables, what would be the dimension of the model?\n",
    "    In other words: what would be the dimension of our big feature vector encoded with dummies. \n",
    "    <br>\n",
    "</font>"
   ]
  },
  {
   "cell_type": "code",
   "execution_count": 7,
   "metadata": {},
   "outputs": [
    {
     "data": {
      "text/plain": [
       "723080"
      ]
     },
     "execution_count": 7,
     "metadata": {},
     "output_type": "execute_result"
    }
   ],
   "source": [
    "np.sum(df_features_count[1:])"
   ]
  },
  {
   "cell_type": "markdown",
   "metadata": {},
   "source": [
    "<font color=\"red\">**Question 5:**\n",
    "    Analyze the 'hour' column: which format is used? How can we transform/simply this feature?\n",
    "</font>"
   ]
  },
  {
   "cell_type": "code",
   "execution_count": 8,
   "metadata": {},
   "outputs": [
    {
     "name": "stdout",
     "output_type": "stream",
     "text": [
      "0    14102915\n",
      "1    14103007\n",
      "2    14102711\n",
      "3    14102903\n",
      "4    14102902\n",
      "Name: hour, dtype: int64\n",
      "999995    14102602\n",
      "999996    14102101\n",
      "999997    14102318\n",
      "999998    14102908\n",
      "999999    14102600\n",
      "Name: hour, dtype: int64\n"
     ]
    }
   ],
   "source": [
    "#format is YYMMDDHH, so 14091123 means 23:00 on Sept. 11, 2014 UTC.\n",
    "\n",
    "print(df['hour'].head()) # Fill here\n",
    "print(df['hour'].tail()) # Fill here"
   ]
  },
  {
   "cell_type": "markdown",
   "metadata": {},
   "source": [
    "on pourra transformer cette colonnes en 4 colonnes:\n",
    "- année \n",
    "- mois\n",
    "- jour\n",
    "- hour"
   ]
  },
  {
   "cell_type": "markdown",
   "metadata": {},
   "source": [
    "<font color=\"red\">**Question 6:**\n",
    "    Run and understand the following script.\n",
    "</font>"
   ]
  },
  {
   "cell_type": "code",
   "execution_count": 7,
   "metadata": {},
   "outputs": [
    {
     "data": {
      "text/plain": [
       "(2, 15)"
      ]
     },
     "execution_count": 7,
     "metadata": {},
     "output_type": "execute_result"
    }
   ],
   "source": [
    "import datetime\n",
    "def datesplit(originalDate):\n",
    "    originalDate = str(originalDate)\n",
    "    \n",
    "    year = int(\"20\" + originalDate[0:2])\n",
    "    month = int(originalDate[2:4])\n",
    "    day = int(originalDate[4:6])\n",
    "    hour = int(originalDate[6:8])\n",
    "    \n",
    "    return datetime.datetime(year, month, day, hour)\n",
    "\n",
    "# Exemple :\n",
    "datesplit(14102915).weekday(), datesplit(14102915).hour"
   ]
  },
  {
   "cell_type": "markdown",
   "metadata": {},
   "source": [
    "Cette fonction permet de formater une date en un type de base pour la date et l'heure gérée par Python.\n",
    "Pour ce faire, nous convertissons tout d'abord l'entrée en string, extrayons les deux premiers chiffres, concatenons avec '20' afin d'obtenir l'année en numérique.\n",
    "Puis la même démarche est utilisée pour le mois, le jour et l'heure.\n",
    "Enfin, nous obtenons un champ de format datetime en utilisant la fonction associée et en lui renseignant les éléments extraits précédemment. \n",
    "\n",
    "L'intérêt de conserver cette information sous ce format est l'accès à de nombreuses fonctionnalitées permises nativement par Python tel que le weekday ou l'heure.\n",
    "\n",
    "- 14102915 weekday -> 2ème jour de la semaine\n",
    "- 14102915 hour -> 15h\n"
   ]
  },
  {
   "cell_type": "markdown",
   "metadata": {},
   "source": [
    "<font color=\"red\">**Question 7:**\n",
    "    Using the \".apply( ... )\" method, create a 'weekday' for the day of the week. Then, replace the 'hour' column by the hour.\n",
    "</font>"
   ]
  },
  {
   "cell_type": "markdown",
   "metadata": {},
   "source": [
    "To answer this question you have to understand that applies takes a function as argument\n",
    "<br>\n",
    "\"lambda x: ... \" is used to create local unamed function of x\n",
    "<br>\n",
    "Check the documentation: https://docs.python.org/3/tutorial/controlflow.html#lambda-expressions"
   ]
  },
  {
   "cell_type": "code",
   "execution_count": 8,
   "metadata": {},
   "outputs": [],
   "source": [
    "df['weekday'] = df['hour'].apply(lambda x : datesplit(x).weekday())\n",
    "df['hour'] = df['hour'].apply(lambda x : datesplit(x).hour)"
   ]
  },
  {
   "cell_type": "code",
   "execution_count": 11,
   "metadata": {},
   "outputs": [
    {
     "data": {
      "text/html": [
       "<div>\n",
       "<style scoped>\n",
       "    .dataframe tbody tr th:only-of-type {\n",
       "        vertical-align: middle;\n",
       "    }\n",
       "\n",
       "    .dataframe tbody tr th {\n",
       "        vertical-align: top;\n",
       "    }\n",
       "\n",
       "    .dataframe thead th {\n",
       "        text-align: right;\n",
       "    }\n",
       "</style>\n",
       "<table border=\"1\" class=\"dataframe\">\n",
       "  <thead>\n",
       "    <tr style=\"text-align: right;\">\n",
       "      <th></th>\n",
       "      <th>id</th>\n",
       "      <th>click</th>\n",
       "      <th>hour</th>\n",
       "      <th>C1</th>\n",
       "      <th>banner_pos</th>\n",
       "      <th>site_id</th>\n",
       "      <th>site_domain</th>\n",
       "      <th>site_category</th>\n",
       "      <th>app_id</th>\n",
       "      <th>app_domain</th>\n",
       "      <th>...</th>\n",
       "      <th>device_conn_type</th>\n",
       "      <th>C14</th>\n",
       "      <th>C15</th>\n",
       "      <th>C16</th>\n",
       "      <th>C17</th>\n",
       "      <th>C18</th>\n",
       "      <th>C19</th>\n",
       "      <th>C20</th>\n",
       "      <th>C21</th>\n",
       "      <th>weekday</th>\n",
       "    </tr>\n",
       "  </thead>\n",
       "  <tbody>\n",
       "    <tr>\n",
       "      <th>0</th>\n",
       "      <td>3.983206e+18</td>\n",
       "      <td>0</td>\n",
       "      <td>15</td>\n",
       "      <td>1005</td>\n",
       "      <td>1</td>\n",
       "      <td>e151e245</td>\n",
       "      <td>7e091613</td>\n",
       "      <td>f028772b</td>\n",
       "      <td>ecad2386</td>\n",
       "      <td>7801e8d9</td>\n",
       "      <td>...</td>\n",
       "      <td>2</td>\n",
       "      <td>4687</td>\n",
       "      <td>320</td>\n",
       "      <td>50</td>\n",
       "      <td>423</td>\n",
       "      <td>2</td>\n",
       "      <td>39</td>\n",
       "      <td>100148</td>\n",
       "      <td>32</td>\n",
       "      <td>2</td>\n",
       "    </tr>\n",
       "    <tr>\n",
       "      <th>1</th>\n",
       "      <td>7.756884e+18</td>\n",
       "      <td>0</td>\n",
       "      <td>7</td>\n",
       "      <td>1002</td>\n",
       "      <td>0</td>\n",
       "      <td>cb809abf</td>\n",
       "      <td>74acf31a</td>\n",
       "      <td>50e219e0</td>\n",
       "      <td>ecad2386</td>\n",
       "      <td>7801e8d9</td>\n",
       "      <td>...</td>\n",
       "      <td>0</td>\n",
       "      <td>17894</td>\n",
       "      <td>320</td>\n",
       "      <td>50</td>\n",
       "      <td>2039</td>\n",
       "      <td>2</td>\n",
       "      <td>39</td>\n",
       "      <td>100077</td>\n",
       "      <td>32</td>\n",
       "      <td>3</td>\n",
       "    </tr>\n",
       "    <tr>\n",
       "      <th>2</th>\n",
       "      <td>6.941774e+17</td>\n",
       "      <td>0</td>\n",
       "      <td>11</td>\n",
       "      <td>1005</td>\n",
       "      <td>0</td>\n",
       "      <td>85f751fd</td>\n",
       "      <td>c4e18dd6</td>\n",
       "      <td>50e219e0</td>\n",
       "      <td>e9739828</td>\n",
       "      <td>df32afa9</td>\n",
       "      <td>...</td>\n",
       "      <td>0</td>\n",
       "      <td>22684</td>\n",
       "      <td>320</td>\n",
       "      <td>50</td>\n",
       "      <td>2619</td>\n",
       "      <td>1</td>\n",
       "      <td>163</td>\n",
       "      <td>100055</td>\n",
       "      <td>71</td>\n",
       "      <td>0</td>\n",
       "    </tr>\n",
       "    <tr>\n",
       "      <th>3</th>\n",
       "      <td>2.664154e+18</td>\n",
       "      <td>1</td>\n",
       "      <td>3</td>\n",
       "      <td>1005</td>\n",
       "      <td>0</td>\n",
       "      <td>85f751fd</td>\n",
       "      <td>c4e18dd6</td>\n",
       "      <td>50e219e0</td>\n",
       "      <td>a5184c22</td>\n",
       "      <td>b8d325c3</td>\n",
       "      <td>...</td>\n",
       "      <td>0</td>\n",
       "      <td>23222</td>\n",
       "      <td>320</td>\n",
       "      <td>50</td>\n",
       "      <td>2676</td>\n",
       "      <td>0</td>\n",
       "      <td>35</td>\n",
       "      <td>100176</td>\n",
       "      <td>221</td>\n",
       "      <td>2</td>\n",
       "    </tr>\n",
       "    <tr>\n",
       "      <th>4</th>\n",
       "      <td>1.480510e+19</td>\n",
       "      <td>0</td>\n",
       "      <td>2</td>\n",
       "      <td>1005</td>\n",
       "      <td>1</td>\n",
       "      <td>791b5571</td>\n",
       "      <td>fd13bc73</td>\n",
       "      <td>f028772b</td>\n",
       "      <td>ecad2386</td>\n",
       "      <td>7801e8d9</td>\n",
       "      <td>...</td>\n",
       "      <td>0</td>\n",
       "      <td>8330</td>\n",
       "      <td>320</td>\n",
       "      <td>50</td>\n",
       "      <td>761</td>\n",
       "      <td>3</td>\n",
       "      <td>175</td>\n",
       "      <td>100081</td>\n",
       "      <td>23</td>\n",
       "      <td>2</td>\n",
       "    </tr>\n",
       "  </tbody>\n",
       "</table>\n",
       "<p>5 rows × 25 columns</p>\n",
       "</div>"
      ],
      "text/plain": [
       "             id  click  hour    C1  banner_pos   site_id site_domain  \\\n",
       "0  3.983206e+18      0    15  1005           1  e151e245    7e091613   \n",
       "1  7.756884e+18      0     7  1002           0  cb809abf    74acf31a   \n",
       "2  6.941774e+17      0    11  1005           0  85f751fd    c4e18dd6   \n",
       "3  2.664154e+18      1     3  1005           0  85f751fd    c4e18dd6   \n",
       "4  1.480510e+19      0     2  1005           1  791b5571    fd13bc73   \n",
       "\n",
       "  site_category    app_id app_domain   ...    device_conn_type    C14  C15  \\\n",
       "0      f028772b  ecad2386   7801e8d9   ...                   2   4687  320   \n",
       "1      50e219e0  ecad2386   7801e8d9   ...                   0  17894  320   \n",
       "2      50e219e0  e9739828   df32afa9   ...                   0  22684  320   \n",
       "3      50e219e0  a5184c22   b8d325c3   ...                   0  23222  320   \n",
       "4      f028772b  ecad2386   7801e8d9   ...                   0   8330  320   \n",
       "\n",
       "  C16   C17  C18  C19     C20  C21  weekday  \n",
       "0  50   423    2   39  100148   32        2  \n",
       "1  50  2039    2   39  100077   32        3  \n",
       "2  50  2619    1  163  100055   71        0  \n",
       "3  50  2676    0   35  100176  221        2  \n",
       "4  50   761    3  175  100081   23        2  \n",
       "\n",
       "[5 rows x 25 columns]"
      ]
     },
     "execution_count": 11,
     "metadata": {},
     "output_type": "execute_result"
    }
   ],
   "source": [
    "df.head()"
   ]
  },
  {
   "cell_type": "markdown",
   "metadata": {},
   "source": [
    "<font color=\"red\">**Question 8:**\n",
    "    Using the \".groupby( ... )\" method, visualize the influence of the hour and of the day on the 'click' frequency. To do so, plot 'click' vs 'hour' and 'click' vs 'weekday' curves.\n",
    "</font>"
   ]
  },
  {
   "cell_type": "code",
   "execution_count": 12,
   "metadata": {},
   "outputs": [
    {
     "name": "stdout",
     "output_type": "stream",
     "text": [
      "            click\n",
      "hour click       \n",
      "0    0      17137\n",
      "     1       3831\n",
      "1    0      20000\n",
      "     1       4562\n",
      "2    0      25083\n",
      "     1       5341\n",
      "3    0      28529\n",
      "     1       6067\n",
      "4    0      39600\n",
      "     1       7524\n",
      "5    0      40936\n",
      "     1       7921\n",
      "6    0      36492\n",
      "     1       7438\n",
      "7    0      37606\n",
      "     1       8115\n",
      "8    0      43698\n",
      "     1       8536\n",
      "9    0      47737\n",
      "     1       9028\n",
      "10   0      44348\n",
      "     1       8612\n",
      "11   0      42165\n",
      "     1       8699\n",
      "12   0      45157\n",
      "     1       9358\n",
      "13   0      49255\n",
      "     1       9948\n",
      "14   0      44730\n",
      "     1       9691\n",
      "15   0      41991\n",
      "     1       9452\n",
      "16   0      41070\n",
      "     1       9020\n",
      "17   0      41725\n",
      "     1       8745\n",
      "18   0      36082\n",
      "     1       7082\n",
      "19   0      27471\n",
      "     1       5457\n",
      "20   0      23489\n",
      "     1       4421\n",
      "21   0      20535\n",
      "     1       3981\n",
      "22   0      18436\n",
      "     1       3692\n",
      "23   0      16757\n",
      "     1       3450\n",
      "                click\n",
      "weekday click        \n",
      "0       0       65226\n",
      "        1       14624\n",
      "1       0      195252\n",
      "        1       37628\n",
      "2       0      190486\n",
      "        1       35926\n",
      "3       0      165384\n",
      "        1       34789\n",
      "4       0       68320\n",
      "        1       14331\n",
      "5       0       67872\n",
      "        1       15304\n",
      "6       0       77489\n",
      "        1       17369\n"
     ]
    }
   ],
   "source": [
    "print(df.groupby(['hour','click']).agg({'click' : 'count'})) # Fill here for the influence of the hour\n",
    "print(df.groupby(['weekday','click']).agg({'click' : 'count'})) # Fill here for the influence of the day"
   ]
  },
  {
   "cell_type": "code",
   "execution_count": 9,
   "metadata": {},
   "outputs": [],
   "source": [
    "df_click_hour = df.groupby(['hour','click'],as_index=False).count()[['hour','click','id']]\n",
    "df_click_hour_1 = df_click_hour[df_click_hour['click']==1]\n",
    "df_click_hour_0 = df_click_hour[df_click_hour['click']==0]"
   ]
  },
  {
   "cell_type": "code",
   "execution_count": 10,
   "metadata": {},
   "outputs": [
    {
     "data": {
      "image/png": "[encoded data removed]",
      "text/plain": [
       "<Figure size 432x288 with 1 Axes>"
      ]
     },
     "metadata": {},
     "output_type": "display_data"
    }
   ],
   "source": [
    "plt.plot(df_click_hour_1[['hour']],df_click_hour_1[['id']],label = 'click')\n",
    "plt.plot(df_click_hour_0[['hour']],df_click_hour_0[['id']], label = 'non click')\n",
    "plt.xlabel('hour')\n",
    "plt.ylabel('nb click')\n",
    "plt.legend()\n",
    "plt.title(\"Evolution de nb de click en fonction de l'heure\")\n",
    "plt.show()"
   ]
  },
  {
   "cell_type": "code",
   "execution_count": 11,
   "metadata": {},
   "outputs": [],
   "source": [
    "df_click_week = df.groupby(['weekday','click'],as_index=False).count()[['weekday','click','id']]\n",
    "df_click_week\n",
    "df_click_week_1 = df_click_week[df_click_week['click']==1]\n",
    "df_click_week_0 = df_click_week[df_click_week['click']==0]"
   ]
  },
  {
   "cell_type": "code",
   "execution_count": 12,
   "metadata": {},
   "outputs": [
    {
     "data": {
      "image/png": "[encoded data removed]",
      "text/plain": [
       "<Figure size 432x288 with 1 Axes>"
      ]
     },
     "metadata": {},
     "output_type": "display_data"
    }
   ],
   "source": [
    "plt.plot(df_click_week_1[['weekday']],df_click_week_1[['id']],label = 'click')\n",
    "plt.plot(df_click_week_0[['weekday']],df_click_week_0[['id']], label = 'non click')\n",
    "plt.xlabel('weekday')\n",
    "plt.ylabel('nb click')\n",
    "plt.title('Evolution de nb de click en fonction de jour de semaine')\n",
    "plt.legend()\n",
    "plt.show()"
   ]
  },
  {
   "cell_type": "markdown",
   "metadata": {},
   "source": [
    "<font color=\"red\">**Question 9:**\n",
    "    Explain what the axes stand for and try to interpret the shape of the obtained curves.\n",
    "</font>"
   ]
  },
  {
   "cell_type": "raw",
   "metadata": {},
   "source": [
    "... Enter your comments here."
   ]
  },
  {
   "cell_type": "markdown",
   "metadata": {},
   "source": [
    "# Preliminary work and first model"
   ]
  },
  {
   "cell_type": "markdown",
   "metadata": {},
   "source": [
    "Start by understanding the features with few modalities:\n",
    "'hour', 'weekday', 'C1', 'banner_pos', 'site_category', 'app_category', 'device_type', 'device_conn_type', 'C15', 'C16', 'C18', 'C21'."
   ]
  },
  {
   "cell_type": "markdown",
   "metadata": {},
   "source": [
    "<font color=\"red\">**Question 10:**\n",
    "    For instance, inspect the columns 'C15' (dimension of the advert) and 'site_category': visualize the clicks mean.\n",
    "</font>"
   ]
  },
  {
   "cell_type": "code",
   "execution_count": 22,
   "metadata": {},
   "outputs": [
    {
     "data": {
      "text/html": [
       "<div>\n",
       "<style scoped>\n",
       "    .dataframe tbody tr th:only-of-type {\n",
       "        vertical-align: middle;\n",
       "    }\n",
       "\n",
       "    .dataframe tbody tr th {\n",
       "        vertical-align: top;\n",
       "    }\n",
       "\n",
       "    .dataframe thead th {\n",
       "        text-align: right;\n",
       "    }\n",
       "</style>\n",
       "<table border=\"1\" class=\"dataframe\">\n",
       "  <thead>\n",
       "    <tr style=\"text-align: right;\">\n",
       "      <th></th>\n",
       "      <th>click</th>\n",
       "    </tr>\n",
       "    <tr>\n",
       "      <th>C15</th>\n",
       "      <th></th>\n",
       "    </tr>\n",
       "  </thead>\n",
       "  <tbody>\n",
       "    <tr>\n",
       "      <th>120</th>\n",
       "      <td>0.033708</td>\n",
       "    </tr>\n",
       "    <tr>\n",
       "      <th>216</th>\n",
       "      <td>0.129612</td>\n",
       "    </tr>\n",
       "    <tr>\n",
       "      <th>300</th>\n",
       "      <td>0.360537</td>\n",
       "    </tr>\n",
       "    <tr>\n",
       "      <th>320</th>\n",
       "      <td>0.158767</td>\n",
       "    </tr>\n",
       "    <tr>\n",
       "      <th>480</th>\n",
       "      <td>0.285714</td>\n",
       "    </tr>\n",
       "    <tr>\n",
       "      <th>728</th>\n",
       "      <td>0.054144</td>\n",
       "    </tr>\n",
       "    <tr>\n",
       "      <th>768</th>\n",
       "      <td>0.375000</td>\n",
       "    </tr>\n",
       "    <tr>\n",
       "      <th>1024</th>\n",
       "      <td>0.166667</td>\n",
       "    </tr>\n",
       "  </tbody>\n",
       "</table>\n",
       "</div>"
      ],
      "text/plain": [
       "         click\n",
       "C15           \n",
       "120   0.033708\n",
       "216   0.129612\n",
       "300   0.360537\n",
       "320   0.158767\n",
       "480   0.285714\n",
       "728   0.054144\n",
       "768   0.375000\n",
       "1024  0.166667"
      ]
     },
     "execution_count": 22,
     "metadata": {},
     "output_type": "execute_result"
    }
   ],
   "source": [
    "df.groupby('C15').agg({'click':'mean'})"
   ]
  },
  {
   "cell_type": "code",
   "execution_count": 23,
   "metadata": {},
   "outputs": [
    {
     "data": {
      "text/html": [
       "<div>\n",
       "<style scoped>\n",
       "    .dataframe tbody tr th:only-of-type {\n",
       "        vertical-align: middle;\n",
       "    }\n",
       "\n",
       "    .dataframe tbody tr th {\n",
       "        vertical-align: top;\n",
       "    }\n",
       "\n",
       "    .dataframe thead th {\n",
       "        text-align: right;\n",
       "    }\n",
       "</style>\n",
       "<table border=\"1\" class=\"dataframe\">\n",
       "  <thead>\n",
       "    <tr style=\"text-align: right;\">\n",
       "      <th></th>\n",
       "      <th>click</th>\n",
       "    </tr>\n",
       "    <tr>\n",
       "      <th>site_category</th>\n",
       "      <th></th>\n",
       "    </tr>\n",
       "  </thead>\n",
       "  <tbody>\n",
       "    <tr>\n",
       "      <th>0569f928</th>\n",
       "      <td>0.053613</td>\n",
       "    </tr>\n",
       "    <tr>\n",
       "      <th>28905ebd</th>\n",
       "      <td>0.208076</td>\n",
       "    </tr>\n",
       "    <tr>\n",
       "      <th>335d28a8</th>\n",
       "      <td>0.089824</td>\n",
       "    </tr>\n",
       "    <tr>\n",
       "      <th>3e814130</th>\n",
       "      <td>0.284245</td>\n",
       "    </tr>\n",
       "    <tr>\n",
       "      <th>42a36e14</th>\n",
       "      <td>0.225806</td>\n",
       "    </tr>\n",
       "    <tr>\n",
       "      <th>50e219e0</th>\n",
       "      <td>0.128597</td>\n",
       "    </tr>\n",
       "    <tr>\n",
       "      <th>5378d028</th>\n",
       "      <td>0.000000</td>\n",
       "    </tr>\n",
       "    <tr>\n",
       "      <th>70fb0e29</th>\n",
       "      <td>0.144737</td>\n",
       "    </tr>\n",
       "    <tr>\n",
       "      <th>72722551</th>\n",
       "      <td>0.059172</td>\n",
       "    </tr>\n",
       "    <tr>\n",
       "      <th>75fa27f6</th>\n",
       "      <td>0.111305</td>\n",
       "    </tr>\n",
       "    <tr>\n",
       "      <th>76b2941d</th>\n",
       "      <td>0.035756</td>\n",
       "    </tr>\n",
       "    <tr>\n",
       "      <th>8fd0aea4</th>\n",
       "      <td>0.015873</td>\n",
       "    </tr>\n",
       "    <tr>\n",
       "      <th>9ccfa2ea</th>\n",
       "      <td>0.000000</td>\n",
       "    </tr>\n",
       "    <tr>\n",
       "      <th>a818d37a</th>\n",
       "      <td>0.000000</td>\n",
       "    </tr>\n",
       "    <tr>\n",
       "      <th>bcf865d9</th>\n",
       "      <td>0.000000</td>\n",
       "    </tr>\n",
       "    <tr>\n",
       "      <th>c0dd3be3</th>\n",
       "      <td>0.128655</td>\n",
       "    </tr>\n",
       "    <tr>\n",
       "      <th>c706e647</th>\n",
       "      <td>0.000000</td>\n",
       "    </tr>\n",
       "    <tr>\n",
       "      <th>da34532e</th>\n",
       "      <td>0.000000</td>\n",
       "    </tr>\n",
       "    <tr>\n",
       "      <th>dedf689d</th>\n",
       "      <td>0.530449</td>\n",
       "    </tr>\n",
       "    <tr>\n",
       "      <th>e787de0e</th>\n",
       "      <td>0.000000</td>\n",
       "    </tr>\n",
       "    <tr>\n",
       "      <th>f028772b</th>\n",
       "      <td>0.179719</td>\n",
       "    </tr>\n",
       "    <tr>\n",
       "      <th>f66779e6</th>\n",
       "      <td>0.034564</td>\n",
       "    </tr>\n",
       "  </tbody>\n",
       "</table>\n",
       "</div>"
      ],
      "text/plain": [
       "                  click\n",
       "site_category          \n",
       "0569f928       0.053613\n",
       "28905ebd       0.208076\n",
       "335d28a8       0.089824\n",
       "3e814130       0.284245\n",
       "42a36e14       0.225806\n",
       "50e219e0       0.128597\n",
       "5378d028       0.000000\n",
       "70fb0e29       0.144737\n",
       "72722551       0.059172\n",
       "75fa27f6       0.111305\n",
       "76b2941d       0.035756\n",
       "8fd0aea4       0.015873\n",
       "9ccfa2ea       0.000000\n",
       "a818d37a       0.000000\n",
       "bcf865d9       0.000000\n",
       "c0dd3be3       0.128655\n",
       "c706e647       0.000000\n",
       "da34532e       0.000000\n",
       "dedf689d       0.530449\n",
       "e787de0e       0.000000\n",
       "f028772b       0.179719\n",
       "f66779e6       0.034564"
      ]
     },
     "execution_count": 23,
     "metadata": {},
     "output_type": "execute_result"
    }
   ],
   "source": [
    "df.groupby('site_category').agg({'click':'mean'})"
   ]
  },
  {
   "cell_type": "markdown",
   "metadata": {},
   "source": [
    "<font color=\"red\">**Question 11:**\n",
    "    Some site categories have a null click rate. Why? Display the 'count()' of each modality.\n",
    "    <br><br>\n",
    "    Hint: you can use the method \".value_counts()\"\n",
    "</font>"
   ]
  },
  {
   "cell_type": "code",
   "execution_count": 24,
   "metadata": {},
   "outputs": [
    {
     "data": {
      "text/plain": [
       "50e219e0    408921\n",
       "f028772b    313339\n",
       "28905ebd    182020\n",
       "3e814130     75667\n",
       "f66779e6      6365\n",
       "75fa27f6      4007\n",
       "335d28a8      3351\n",
       "76b2941d      2573\n",
       "c0dd3be3      1026\n",
       "72722551       676\n",
       "dedf689d       624\n",
       "70fb0e29       608\n",
       "0569f928       429\n",
       "8fd0aea4       189\n",
       "a818d37a        81\n",
       "42a36e14        62\n",
       "e787de0e        28\n",
       "bcf865d9        16\n",
       "5378d028        11\n",
       "9ccfa2ea         5\n",
       "da34532e         1\n",
       "c706e647         1\n",
       "Name: site_category, dtype: int64"
      ]
     },
     "execution_count": 24,
     "metadata": {},
     "output_type": "execute_result"
    }
   ],
   "source": [
    "df['site_category'].value_counts()"
   ]
  },
  {
   "cell_type": "code",
   "execution_count": 114,
   "metadata": {},
   "outputs": [
    {
     "ename": "TypeError",
     "evalue": "'method' object is not iterable",
     "output_type": "error",
     "traceback": [
      "\u001b[0;31m---------------------------------------------------------------------------\u001b[0m",
      "\u001b[0;31mTypeError\u001b[0m                                 Traceback (most recent call last)",
      "\u001b[0;32m<ipython-input-114-18b7bfc8a6f5>\u001b[0m in \u001b[0;36m<module>\u001b[0;34m()\u001b[0m\n\u001b[0;32m----> 1\u001b[0;31m \u001b[0mlist\u001b[0m\u001b[0;34m(\u001b[0m\u001b[0mdf\u001b[0m\u001b[0;34m[\u001b[0m\u001b[0;34m'site_category'\u001b[0m\u001b[0;34m]\u001b[0m\u001b[0;34m.\u001b[0m\u001b[0mvalue_counts\u001b[0m\u001b[0;34m(\u001b[0m\u001b[0;34m)\u001b[0m\u001b[0;34m.\u001b[0m\u001b[0mkeys\u001b[0m\u001b[0;34m)\u001b[0m\u001b[0;34m\u001b[0m\u001b[0m\n\u001b[0m",
      "\u001b[0;31mTypeError\u001b[0m: 'method' object is not iterable"
     ]
    }
   ],
   "source": [
    "list(df['site_category'].value_counts().keys)"
   ]
  },
  {
   "cell_type": "code",
   "execution_count": 115,
   "metadata": {},
   "outputs": [
    {
     "data": {
      "text/plain": [
       "<BarContainer object of 22 artists>"
      ]
     },
     "execution_count": 115,
     "metadata": {},
     "output_type": "execute_result"
    },
    {
     "data": {
      "image/png": "[encoded data removed]",
      "text/plain": [
       "<Figure size 432x288 with 1 Axes>"
      ]
     },
     "metadata": {},
     "output_type": "display_data"
    }
   ],
   "source": [
    "plt.bar(df['site_category'].value_counts().keys(), df['site_category'].value_counts())"
   ]
  },
  {
   "cell_type": "raw",
   "metadata": {},
   "source": [
    "Parce qu'il y a eu peu de visite sur les sites proposant des AD's avec cette modalité => moins de chance d'être cliqué."
   ]
  },
  {
   "cell_type": "markdown",
   "metadata": {},
   "source": [
    "It is practical to visualize both columns in parallel:"
   ]
  },
  {
   "cell_type": "code",
   "execution_count": 13,
   "metadata": {},
   "outputs": [
    {
     "data": {
      "text/html": [
       "<div>\n",
       "<style scoped>\n",
       "    .dataframe tbody tr th:only-of-type {\n",
       "        vertical-align: middle;\n",
       "    }\n",
       "\n",
       "    .dataframe tbody tr th {\n",
       "        vertical-align: top;\n",
       "    }\n",
       "\n",
       "    .dataframe thead th {\n",
       "        text-align: right;\n",
       "    }\n",
       "</style>\n",
       "<table border=\"1\" class=\"dataframe\">\n",
       "  <thead>\n",
       "    <tr style=\"text-align: right;\">\n",
       "      <th></th>\n",
       "      <th>mean</th>\n",
       "      <th>count</th>\n",
       "    </tr>\n",
       "    <tr>\n",
       "      <th>C1</th>\n",
       "      <th></th>\n",
       "      <th></th>\n",
       "    </tr>\n",
       "  </thead>\n",
       "  <tbody>\n",
       "    <tr>\n",
       "      <th>1005</th>\n",
       "      <td>0.169474</td>\n",
       "      <td>918606.0</td>\n",
       "    </tr>\n",
       "    <tr>\n",
       "      <th>1002</th>\n",
       "      <td>0.211157</td>\n",
       "      <td>54907.0</td>\n",
       "    </tr>\n",
       "    <tr>\n",
       "      <th>1010</th>\n",
       "      <td>0.095497</td>\n",
       "      <td>22409.0</td>\n",
       "    </tr>\n",
       "    <tr>\n",
       "      <th>1012</th>\n",
       "      <td>0.177295</td>\n",
       "      <td>2854.0</td>\n",
       "    </tr>\n",
       "    <tr>\n",
       "      <th>1007</th>\n",
       "      <td>0.035591</td>\n",
       "      <td>871.0</td>\n",
       "    </tr>\n",
       "    <tr>\n",
       "      <th>1001</th>\n",
       "      <td>0.027027</td>\n",
       "      <td>222.0</td>\n",
       "    </tr>\n",
       "    <tr>\n",
       "      <th>1008</th>\n",
       "      <td>0.106870</td>\n",
       "      <td>131.0</td>\n",
       "    </tr>\n",
       "  </tbody>\n",
       "</table>\n",
       "</div>"
      ],
      "text/plain": [
       "          mean     count\n",
       "C1                      \n",
       "1005  0.169474  918606.0\n",
       "1002  0.211157   54907.0\n",
       "1010  0.095497   22409.0\n",
       "1012  0.177295    2854.0\n",
       "1007  0.035591     871.0\n",
       "1001  0.027027     222.0\n",
       "1008  0.106870     131.0"
      ]
     },
     "execution_count": 13,
     "metadata": {},
     "output_type": "execute_result"
    }
   ],
   "source": [
    "col = 'C1'\n",
    "a = pd.DataFrame([df.groupby(col).mean()['click'], df.groupby(col).count()['click']]).transpose()\n",
    "a.columns = ['mean', 'count']\n",
    "a.sort_values(by='count', ascending=False)"
   ]
  },
  {
   "cell_type": "markdown",
   "metadata": {},
   "source": [
    "<font color=\"red\">**Question 12:**\n",
    "    Divide the dataset into a training (90%) and test set (10%) with sklearn (use the following option: random_state=100).\n",
    "</font>"
   ]
  },
  {
   "cell_type": "code",
   "execution_count": 24,
   "metadata": {},
   "outputs": [],
   "source": [
    "from sklearn.model_selection import train_test_split\n",
    "Xtrain, Xtest, ytrain, ytest = train_test_split(df.drop(['id', 'click'], axis=1), df['click'],test_size=0.1, random_state=100)"
   ]
  },
  {
   "cell_type": "markdown",
   "metadata": {},
   "source": [
    "# First work on a reduced number of features"
   ]
  },
  {
   "cell_type": "markdown",
   "metadata": {},
   "source": [
    "<font color=\"red\">**Question 13:**\n",
    "    Put in a list the selected columns: 'hour', 'weekday', 'C1', 'banner_pos', 'site_category', 'app_category', 'device_type', 'device_conn_type', 'C15', 'C16', 'C18', 'C21'.\n",
    "</font>"
   ]
  },
  {
   "cell_type": "code",
   "execution_count": 25,
   "metadata": {},
   "outputs": [],
   "source": [
    "some_columns = ['hour', 'weekday', 'C1', 'banner_pos', 'site_category', 'app_category', \n",
    "                'device_type', 'device_conn_type', 'C15', 'C16', 'C18', 'C21']"
   ]
  },
  {
   "cell_type": "markdown",
   "metadata": {},
   "source": [
    "<font color=\"red\">**Question 14:**\n",
    "    <br>\n",
    "    - Import OneHotEncoder from sklearn.preprocessing\n",
    "    <br>\n",
    "    - Transform the training and the test data restricted to the selected columns\n",
    "    <br>\n",
    "    - Give the type of the outputs.\n",
    "</font>"
   ]
  },
  {
   "cell_type": "code",
   "execution_count": 23,
   "metadata": {},
   "outputs": [
    {
     "ename": "ValueError",
     "evalue": "could not convert string to float: '07d7df22'",
     "output_type": "error",
     "traceback": [
      "\u001b[0;31m---------------------------------------------------------------------------\u001b[0m",
      "\u001b[0;31mValueError\u001b[0m                                Traceback (most recent call last)",
      "\u001b[0;32m<ipython-input-23-fbb143966fd9>\u001b[0m in \u001b[0;36m<module>\u001b[0;34m()\u001b[0m\n\u001b[1;32m      1\u001b[0m \u001b[0;32mfrom\u001b[0m \u001b[0msklearn\u001b[0m\u001b[0;34m.\u001b[0m\u001b[0mpreprocessing\u001b[0m \u001b[0;32mimport\u001b[0m \u001b[0mOneHotEncoder\u001b[0m\u001b[0;34m\u001b[0m\u001b[0m\n\u001b[1;32m      2\u001b[0m \u001b[0mohe\u001b[0m \u001b[0;34m=\u001b[0m \u001b[0mOneHotEncoder\u001b[0m\u001b[0;34m(\u001b[0m\u001b[0mhandle_unknown\u001b[0m\u001b[0;34m=\u001b[0m\u001b[0;34m'ignore'\u001b[0m\u001b[0;34m)\u001b[0m\u001b[0;34m\u001b[0m\u001b[0m\n\u001b[0;32m----> 3\u001b[0;31m \u001b[0mXtrain_oh\u001b[0m \u001b[0;34m=\u001b[0m \u001b[0mohe\u001b[0m\u001b[0;34m.\u001b[0m\u001b[0mfit_transform\u001b[0m\u001b[0;34m(\u001b[0m\u001b[0mXtrain\u001b[0m\u001b[0;34m[\u001b[0m\u001b[0msome_columns\u001b[0m\u001b[0;34m]\u001b[0m\u001b[0;34m)\u001b[0m\u001b[0;34m\u001b[0m\u001b[0m\n\u001b[0m\u001b[1;32m      4\u001b[0m \u001b[0mXtest_oh\u001b[0m \u001b[0;34m=\u001b[0m \u001b[0mohe\u001b[0m\u001b[0;34m.\u001b[0m\u001b[0mtransform\u001b[0m\u001b[0;34m(\u001b[0m\u001b[0mXtest\u001b[0m\u001b[0;34m[\u001b[0m\u001b[0msome_columns\u001b[0m\u001b[0;34m]\u001b[0m\u001b[0;34m)\u001b[0m\u001b[0;34m\u001b[0m\u001b[0m\n",
      "\u001b[0;32m~/anaconda3/lib/python3.6/site-packages/sklearn/preprocessing/data.py\u001b[0m in \u001b[0;36mfit_transform\u001b[0;34m(self, X, y)\u001b[0m\n\u001b[1;32m   2017\u001b[0m         \"\"\"\n\u001b[1;32m   2018\u001b[0m         return _transform_selected(X, self._fit_transform,\n\u001b[0;32m-> 2019\u001b[0;31m                                    self.categorical_features, copy=True)\n\u001b[0m\u001b[1;32m   2020\u001b[0m \u001b[0;34m\u001b[0m\u001b[0m\n\u001b[1;32m   2021\u001b[0m     \u001b[0;32mdef\u001b[0m \u001b[0m_transform\u001b[0m\u001b[0;34m(\u001b[0m\u001b[0mself\u001b[0m\u001b[0;34m,\u001b[0m \u001b[0mX\u001b[0m\u001b[0;34m)\u001b[0m\u001b[0;34m:\u001b[0m\u001b[0;34m\u001b[0m\u001b[0m\n",
      "\u001b[0;32m~/anaconda3/lib/python3.6/site-packages/sklearn/preprocessing/data.py\u001b[0m in \u001b[0;36m_transform_selected\u001b[0;34m(X, transform, selected, copy)\u001b[0m\n\u001b[1;32m   1807\u001b[0m     \u001b[0mX\u001b[0m \u001b[0;34m:\u001b[0m \u001b[0marray\u001b[0m \u001b[0;32mor\u001b[0m \u001b[0msparse\u001b[0m \u001b[0mmatrix\u001b[0m\u001b[0;34m,\u001b[0m \u001b[0mshape\u001b[0m\u001b[0;34m=\u001b[0m\u001b[0;34m(\u001b[0m\u001b[0mn_samples\u001b[0m\u001b[0;34m,\u001b[0m \u001b[0mn_features_new\u001b[0m\u001b[0;34m)\u001b[0m\u001b[0;34m\u001b[0m\u001b[0m\n\u001b[1;32m   1808\u001b[0m     \"\"\"\n\u001b[0;32m-> 1809\u001b[0;31m     \u001b[0mX\u001b[0m \u001b[0;34m=\u001b[0m \u001b[0mcheck_array\u001b[0m\u001b[0;34m(\u001b[0m\u001b[0mX\u001b[0m\u001b[0;34m,\u001b[0m \u001b[0maccept_sparse\u001b[0m\u001b[0;34m=\u001b[0m\u001b[0;34m'csc'\u001b[0m\u001b[0;34m,\u001b[0m \u001b[0mcopy\u001b[0m\u001b[0;34m=\u001b[0m\u001b[0mcopy\u001b[0m\u001b[0;34m,\u001b[0m \u001b[0mdtype\u001b[0m\u001b[0;34m=\u001b[0m\u001b[0mFLOAT_DTYPES\u001b[0m\u001b[0;34m)\u001b[0m\u001b[0;34m\u001b[0m\u001b[0m\n\u001b[0m\u001b[1;32m   1810\u001b[0m \u001b[0;34m\u001b[0m\u001b[0m\n\u001b[1;32m   1811\u001b[0m     \u001b[0;32mif\u001b[0m \u001b[0misinstance\u001b[0m\u001b[0;34m(\u001b[0m\u001b[0mselected\u001b[0m\u001b[0;34m,\u001b[0m \u001b[0msix\u001b[0m\u001b[0;34m.\u001b[0m\u001b[0mstring_types\u001b[0m\u001b[0;34m)\u001b[0m \u001b[0;32mand\u001b[0m \u001b[0mselected\u001b[0m \u001b[0;34m==\u001b[0m \u001b[0;34m\"all\"\u001b[0m\u001b[0;34m:\u001b[0m\u001b[0;34m\u001b[0m\u001b[0m\n",
      "\u001b[0;32m~/anaconda3/lib/python3.6/site-packages/sklearn/utils/validation.py\u001b[0m in \u001b[0;36mcheck_array\u001b[0;34m(array, accept_sparse, dtype, order, copy, force_all_finite, ensure_2d, allow_nd, ensure_min_samples, ensure_min_features, warn_on_dtype, estimator)\u001b[0m\n\u001b[1;32m    431\u001b[0m                                       force_all_finite)\n\u001b[1;32m    432\u001b[0m     \u001b[0;32melse\u001b[0m\u001b[0;34m:\u001b[0m\u001b[0;34m\u001b[0m\u001b[0m\n\u001b[0;32m--> 433\u001b[0;31m         \u001b[0marray\u001b[0m \u001b[0;34m=\u001b[0m \u001b[0mnp\u001b[0m\u001b[0;34m.\u001b[0m\u001b[0marray\u001b[0m\u001b[0;34m(\u001b[0m\u001b[0marray\u001b[0m\u001b[0;34m,\u001b[0m \u001b[0mdtype\u001b[0m\u001b[0;34m=\u001b[0m\u001b[0mdtype\u001b[0m\u001b[0;34m,\u001b[0m \u001b[0morder\u001b[0m\u001b[0;34m=\u001b[0m\u001b[0morder\u001b[0m\u001b[0;34m,\u001b[0m \u001b[0mcopy\u001b[0m\u001b[0;34m=\u001b[0m\u001b[0mcopy\u001b[0m\u001b[0;34m)\u001b[0m\u001b[0;34m\u001b[0m\u001b[0m\n\u001b[0m\u001b[1;32m    434\u001b[0m \u001b[0;34m\u001b[0m\u001b[0m\n\u001b[1;32m    435\u001b[0m         \u001b[0;32mif\u001b[0m \u001b[0mensure_2d\u001b[0m\u001b[0;34m:\u001b[0m\u001b[0;34m\u001b[0m\u001b[0m\n",
      "\u001b[0;31mValueError\u001b[0m: could not convert string to float: '07d7df22'"
     ]
    }
   ],
   "source": [
    "from sklearn.preprocessing import OneHotEncoder\n",
    "ohe = OneHotEncoder(handle_unknown='ignore')\n",
    "Xtrain_oh = ohe.fit_transform(Xtrain[some_columns])\n",
    "Xtest_oh = ohe.transform(Xtest[some_columns])"
   ]
  },
  {
   "cell_type": "raw",
   "metadata": {},
   "source": [
    "Got k binary variables for each original variable containing k modals"
   ]
  },
  {
   "cell_type": "markdown",
   "metadata": {},
   "source": [
    "<font color=\"red\">**Question 15:**\n",
    "    What is the new number of features?\n",
    "</font>"
   ]
  },
  {
   "cell_type": "code",
   "execution_count": 123,
   "metadata": {},
   "outputs": [
    {
     "data": {
      "text/plain": [
       "(750000, 23)"
      ]
     },
     "execution_count": 123,
     "metadata": {},
     "output_type": "execute_result"
    }
   ],
   "source": [
    "Xtrain.shape"
   ]
  },
  {
   "cell_type": "code",
   "execution_count": 122,
   "metadata": {},
   "outputs": [
    {
     "data": {
      "text/plain": [
       "(750000, 182)"
      ]
     },
     "execution_count": 122,
     "metadata": {},
     "output_type": "execute_result"
    }
   ],
   "source": [
    "Xtrain_oh.shape"
   ]
  },
  {
   "cell_type": "markdown",
   "metadata": {},
   "source": [
    "<font color=\"red\">**Question 16:**\n",
    "    Visualize the first row of the design matrix you have got.\n",
    "</font>"
   ]
  },
  {
   "cell_type": "code",
   "execution_count": 137,
   "metadata": {},
   "outputs": [
    {
     "data": {
      "text/plain": [
       "array(['x0_0', 'x0_1', 'x0_2', 'x0_3', 'x0_4', 'x0_5', 'x0_6', 'x0_7',\n",
       "       'x0_8', 'x0_9', 'x0_10', 'x0_11', 'x0_12', 'x0_13', 'x0_14',\n",
       "       'x0_15', 'x0_16', 'x0_17', 'x0_18', 'x0_19', 'x0_20', 'x0_21',\n",
       "       'x0_22', 'x0_23', 'x1_0', 'x1_1', 'x1_2', 'x1_3', 'x1_4', 'x1_5',\n",
       "       'x1_6', 'x2_1001', 'x2_1002', 'x2_1005', 'x2_1007', 'x2_1008',\n",
       "       'x2_1010', 'x2_1012', 'x3_0', 'x3_1', 'x3_2', 'x3_3', 'x3_4',\n",
       "       'x3_5', 'x3_7', 'x4_0569f928', 'x4_28905ebd', 'x4_335d28a8',\n",
       "       'x4_3e814130', 'x4_42a36e14', 'x4_50e219e0', 'x4_5378d028',\n",
       "       'x4_70fb0e29', 'x4_72722551', 'x4_75fa27f6', 'x4_76b2941d',\n",
       "       'x4_8fd0aea4', 'x4_9ccfa2ea', 'x4_a818d37a', 'x4_bcf865d9',\n",
       "       'x4_c0dd3be3', 'x4_c706e647', 'x4_da34532e', 'x4_dedf689d',\n",
       "       'x4_e787de0e', 'x4_f028772b', 'x4_f66779e6', 'x5_07d7df22',\n",
       "       'x5_09481d60', 'x5_0bfbc358', 'x5_0f2161f8', 'x5_0f9a328c',\n",
       "       'x5_18b1e0be', 'x5_2281a340', 'x5_2fc4f2aa', 'x5_4681bb9d',\n",
       "       'x5_4ce2e9fc', 'x5_5326cf99', 'x5_7113d72a', 'x5_75d80bbe',\n",
       "       'x5_79f0b860', 'x5_86c1a5a3', 'x5_879c24eb', 'x5_8ded1f7a',\n",
       "       'x5_8df2e842', 'x5_a3c42688', 'x5_a7fd01ec', 'x5_a86a3e89',\n",
       "       'x5_cef3e649', 'x5_d1327cf5', 'x5_dc97ec06', 'x5_f95efa07',\n",
       "       'x5_fc6fa53d', 'x6_0', 'x6_1', 'x6_4', 'x6_5', 'x7_0', 'x7_2',\n",
       "       'x7_3', 'x7_5', 'x8_120', 'x8_216', 'x8_300', 'x8_320', 'x8_480',\n",
       "       'x8_728', 'x8_768', 'x8_1024', 'x9_20', 'x9_36', 'x9_50', 'x9_90',\n",
       "       'x9_250', 'x9_320', 'x9_480', 'x9_768', 'x9_1024', 'x10_0',\n",
       "       'x10_1', 'x10_2', 'x10_3', 'x11_1', 'x11_13', 'x11_15', 'x11_16',\n",
       "       'x11_17', 'x11_20', 'x11_23', 'x11_32', 'x11_33', 'x11_35',\n",
       "       'x11_42', 'x11_43', 'x11_46', 'x11_48', 'x11_51', 'x11_52',\n",
       "       'x11_61', 'x11_68', 'x11_69', 'x11_70', 'x11_71', 'x11_76',\n",
       "       'x11_79', 'x11_82', 'x11_85', 'x11_90', 'x11_91', 'x11_93',\n",
       "       'x11_94', 'x11_95', 'x11_100', 'x11_101', 'x11_102', 'x11_104',\n",
       "       'x11_108', 'x11_110', 'x11_111', 'x11_112', 'x11_116', 'x11_117',\n",
       "       'x11_126', 'x11_156', 'x11_157', 'x11_159', 'x11_163', 'x11_171',\n",
       "       'x11_177', 'x11_178', 'x11_182', 'x11_194', 'x11_195', 'x11_204',\n",
       "       'x11_212', 'x11_219', 'x11_221', 'x11_229', 'x11_246', 'x11_251',\n",
       "       'x11_253', 'x11_255'], dtype=object)"
      ]
     },
     "execution_count": 137,
     "metadata": {},
     "output_type": "execute_result"
    }
   ],
   "source": [
    "ohe.get_feature_names()"
   ]
  },
  {
   "cell_type": "code",
   "execution_count": 129,
   "metadata": {},
   "outputs": [
    {
     "data": {
      "text/plain": [
       "matrix([[0., 0., 0., 1., 0., 0., 0., 0., 0., 0., 0., 0., 0., 0., 0., 0.,\n",
       "         0., 0., 0., 0., 0., 0., 0., 0., 0., 0., 0., 1., 0., 0., 0., 0.,\n",
       "         0., 0., 0., 0., 1., 0., 0., 1., 0., 0., 0., 0., 0., 0., 0., 0.,\n",
       "         0., 0., 1., 0., 0., 0., 0., 0., 0., 0., 0., 0., 0., 0., 0., 0.,\n",
       "         0., 0., 0., 0., 0., 0., 1., 0., 0., 0., 0., 0., 0., 0., 0., 0.,\n",
       "         0., 0., 0., 0., 0., 0., 0., 0., 0., 0., 0., 0., 0., 0., 0., 1.,\n",
       "         0., 1., 0., 0., 0., 0., 0., 0., 1., 0., 0., 0., 0., 0., 0., 1.,\n",
       "         0., 0., 0., 0., 0., 0., 1., 0., 0., 0., 0., 0., 0., 0., 0., 0.,\n",
       "         0., 0., 0., 0., 0., 0., 0., 0., 0., 0., 0., 0., 0., 0., 0., 0.,\n",
       "         0., 0., 0., 0., 0., 0., 0., 0., 0., 0., 0., 0., 0., 1., 0., 0.,\n",
       "         0., 0., 0., 0., 0., 0., 0., 0., 0., 0., 0., 0., 0., 0., 0., 0.,\n",
       "         0., 0., 0., 0., 0., 0.]])"
      ]
     },
     "execution_count": 129,
     "metadata": {},
     "output_type": "execute_result"
    }
   ],
   "source": [
    "Xtrain_oh.todense()[1,:]"
   ]
  },
  {
   "cell_type": "markdown",
   "metadata": {},
   "source": [
    "<font color=\"red\">**Question 17:**\n",
    "    Import and fit a logistic regression model on your the encoded data\n",
    "</font>"
   ]
  },
  {
   "cell_type": "code",
   "execution_count": 30,
   "metadata": {},
   "outputs": [
    {
     "data": {
      "text/plain": [
       "LogisticRegression(C=1.0, class_weight=None, dual=False, fit_intercept=True,\n",
       "          intercept_scaling=1, max_iter=500, multi_class='warn',\n",
       "          n_jobs=None, penalty='l2', random_state=None, solver='newton-cg',\n",
       "          tol=0.0001, verbose=0, warm_start=False)"
      ]
     },
     "execution_count": 30,
     "metadata": {},
     "output_type": "execute_result"
    }
   ],
   "source": [
    "from sklearn.linear_model import LogisticRegression\n",
    "lr = LogisticRegression(solver='newton-cg', max_iter=500)\n",
    "lr.fit(Xtrain_oh, ytrain)"
   ]
  },
  {
   "cell_type": "markdown",
   "metadata": {},
   "source": [
    "<font color=\"red\">**Question 18:**\n",
    "    With '.predict' and 'predict_proba', display the hard and soft decision you get on test data.\n",
    "</font>"
   ]
  },
  {
   "cell_type": "code",
   "execution_count": 32,
   "metadata": {},
   "outputs": [
    {
     "name": "stdout",
     "output_type": "stream",
     "text": [
      "hard :  [0 0 0 ... 0 0 0]\n",
      "soft :  [[0.75808519 0.24191481]\n",
      " [0.73401283 0.26598717]\n",
      " [0.79691    0.20309   ]\n",
      " ...\n",
      " [0.79254169 0.20745831]\n",
      " [0.78564923 0.21435077]\n",
      " [0.87851889 0.12148111]]\n"
     ]
    }
   ],
   "source": [
    "hard = lr.predict(Xtest_oh)\n",
    "soft = lr.predict_proba(Xtest_oh)\n",
    "print(\"hard : \",hard)\n",
    "print(\"soft : \", soft)"
   ]
  },
  {
   "cell_type": "markdown",
   "metadata": {},
   "source": [
    "<font color=\"red\">**Question 19:**\n",
    "    Compute the probability of **error** using sklearn.metrics 'accuracy_score' function. Comment.\n",
    "    \n",
    "</font>"
   ]
  },
  {
   "cell_type": "code",
   "execution_count": 33,
   "metadata": {},
   "outputs": [
    {
     "name": "stdout",
     "output_type": "stream",
     "text": [
      "0.83043\n"
     ]
    }
   ],
   "source": [
    "from sklearn.metrics import accuracy_score\n",
    "print(accuracy_score(ytest, hard))"
   ]
  },
  {
   "cell_type": "raw",
   "metadata": {},
   "source": [
    "Seems good but is it really ?"
   ]
  },
  {
   "cell_type": "markdown",
   "metadata": {},
   "source": [
    "<font color=\"red\">**Question 20:**\n",
    "    Which sklearn.metrics could you also use?\n",
    "</font>"
   ]
  },
  {
   "cell_type": "code",
   "execution_count": 38,
   "metadata": {},
   "outputs": [
    {
     "data": {
      "text/plain": [
       "0.5033286118461706"
      ]
     },
     "execution_count": 38,
     "metadata": {},
     "output_type": "execute_result"
    }
   ],
   "source": [
    "from sklearn import metrics\n",
    "fpr, tpr, thresholds = metrics.roc_curve(ytest, hard)\n",
    "metrics.auc(fpr, tpr)"
   ]
  },
  {
   "cell_type": "markdown",
   "metadata": {},
   "source": [
    "<font color=\"red\">**Question 21:**\n",
    "    Plot the ROC curve. Then compute the log loss and the Area Under the Curve ROC.\n",
    "</font>"
   ]
  },
  {
   "cell_type": "code",
   "execution_count": 39,
   "metadata": {},
   "outputs": [],
   "source": [
    "from sklearn.metrics import roc_curve\n",
    "fpr, tpr, thresholds = roc_curve(ytest, soft.T[1])"
   ]
  },
  {
   "cell_type": "code",
   "execution_count": 40,
   "metadata": {},
   "outputs": [
    {
     "data": {
      "image/png": "[encoded data removed]",
      "text/plain": [
       "<Figure size 432x288 with 1 Axes>"
      ]
     },
     "metadata": {},
     "output_type": "display_data"
    }
   ],
   "source": [
    "plt.plot(fpr, tpr, label='ROC = %0.2f' % roc_auc_score(ytest, soft.T[1]))\n",
    "plt.plot([0,1],[0,1], linestyle='--', label='ROC = 0.5')\n",
    "plt.legend();"
   ]
  },
  {
   "cell_type": "code",
   "execution_count": 41,
   "metadata": {},
   "outputs": [
    {
     "data": {
      "text/plain": [
       "(5.856741008934769, 0.6762899940019035)"
      ]
     },
     "execution_count": 41,
     "metadata": {},
     "output_type": "execute_result"
    }
   ],
   "source": [
    "from sklearn.metrics import log_loss , roc_auc_score \n",
    "log_loss(ytest, hard), roc_auc_score(ytest, soft.T[1])"
   ]
  },
  {
   "cell_type": "markdown",
   "metadata": {},
   "source": [
    "<font color=\"red\">**Question 22:**\n",
    "    <br>\n",
    "    - Import the 'plot_lift' function from 'utils.py' and plot the lift curve. What is the lift of the first fifth of the population identified by the test?\n",
    "    <br>\n",
    "    -  Interpret it. \n",
    "</font>"
   ]
  },
  {
   "cell_type": "code",
   "execution_count": 42,
   "metadata": {},
   "outputs": [
    {
     "data": {
      "image/png": "[encoded data removed]",
      "text/plain": [
       "<Figure size 432x288 with 1 Axes>"
      ]
     },
     "metadata": {},
     "output_type": "display_data"
    }
   ],
   "source": [
    "from utils import plotlift\n",
    "plotlift(ytest, soft.T[1])\n",
    "# The following line just plots a vertical line for you to answer the second part of the question\n",
    "plt.axvline(x= 0.2 , linestyle='--', color='g')\n",
    "plt.axhline(y= 1 , linestyle='--', color='r');"
   ]
  },
  {
   "cell_type": "raw",
   "metadata": {},
   "source": [
    "It's good but can we do better ?"
   ]
  },
  {
   "cell_type": "markdown",
   "metadata": {},
   "source": [
    "# Complete model"
   ]
  },
  {
   "cell_type": "markdown",
   "metadata": {},
   "source": [
    "As an example, we now work on the 'site_id' column.\n",
    "<font color=\"red\">**Question 23:**\n",
    "    <br>\n",
    "    - For each modality, compute the number of occurrences in the dataset and the average of clicks for this modality \n",
    "    <br>\n",
    "    - With 'sns.joiplot', represent the set of points (count, mean) for each modality\n",
    "</font>"
   ]
  },
  {
   "cell_type": "code",
   "execution_count": 43,
   "metadata": {},
   "outputs": [],
   "source": [
    "import seaborn as sns"
   ]
  },
  {
   "cell_type": "code",
   "execution_count": 58,
   "metadata": {},
   "outputs": [
    {
     "name": "stderr",
     "output_type": "stream",
     "text": [
      "/home/ubuntu/anaconda3/lib/python3.6/site-packages/matplotlib/axes/_axes.py:6462: UserWarning: The 'normed' kwarg is deprecated, and has been replaced by the 'density' kwarg.\n",
      "  warnings.warn(\"The 'normed' kwarg is deprecated, and has been \"\n",
      "/home/ubuntu/anaconda3/lib/python3.6/site-packages/matplotlib/axes/_axes.py:6462: UserWarning: The 'normed' kwarg is deprecated, and has been replaced by the 'density' kwarg.\n",
      "  warnings.warn(\"The 'normed' kwarg is deprecated, and has been \"\n"
     ]
    },
    {
     "data": {
      "image/png": "[encoded data removed]",
      "text/plain": [
       "<Figure size 432x432 with 3 Axes>"
      ]
     },
     "metadata": {},
     "output_type": "display_data"
    }
   ],
   "source": [
    "col = 'site_id'\n",
    "a = pd.DataFrame([df.groupby(col).mean()['click'], df.groupby(col).count()['click']]).transpose()\n",
    "a.columns = ['mean', 'n_val']\n",
    "#sns.jointplot(a['n_val'], a['mean'], alpha=0.25);\n",
    "thres = 10000\n",
    "sns.jointplot(a[a['n_val']<thres]['n_val'], a[a['n_val']<thres]['mean'], alpha=0.25);"
   ]
  },
  {
   "cell_type": "markdown",
   "metadata": {},
   "source": [
    "<font color=\"red\">**Question 24:**\n",
    "    In the above commands, what does the alpha parameter stand for?\n",
    "</font>"
   ]
  },
  {
   "cell_type": "raw",
   "metadata": {},
   "source": [
    "#degree de transparence pour les points"
   ]
  },
  {
   "cell_type": "markdown",
   "metadata": {},
   "source": [
    "Several sites with a lot of occurrences in the dataset have a click frequency very different from the mean. It is relevant to keep the column 'site_id' at least for the modalities for which 'count' is very high.\n",
    "<font color=\"red\">**Question 25:**\n",
    "    Do the same work on the 'device_id' column. What do you notice? What could be the isolated point?\n",
    "</font>"
   ]
  },
  {
   "cell_type": "code",
   "execution_count": 60,
   "metadata": {},
   "outputs": [
    {
     "name": "stderr",
     "output_type": "stream",
     "text": [
      "/home/ubuntu/anaconda3/lib/python3.6/site-packages/matplotlib/axes/_axes.py:6462: UserWarning: The 'normed' kwarg is deprecated, and has been replaced by the 'density' kwarg.\n",
      "  warnings.warn(\"The 'normed' kwarg is deprecated, and has been \"\n",
      "/home/ubuntu/anaconda3/lib/python3.6/site-packages/matplotlib/axes/_axes.py:6462: UserWarning: The 'normed' kwarg is deprecated, and has been replaced by the 'density' kwarg.\n",
      "  warnings.warn(\"The 'normed' kwarg is deprecated, and has been \"\n",
      "/home/ubuntu/anaconda3/lib/python3.6/site-packages/matplotlib/axes/_axes.py:6462: UserWarning: The 'normed' kwarg is deprecated, and has been replaced by the 'density' kwarg.\n",
      "  warnings.warn(\"The 'normed' kwarg is deprecated, and has been \"\n",
      "/home/ubuntu/anaconda3/lib/python3.6/site-packages/matplotlib/axes/_axes.py:6462: UserWarning: The 'normed' kwarg is deprecated, and has been replaced by the 'density' kwarg.\n",
      "  warnings.warn(\"The 'normed' kwarg is deprecated, and has been \"\n"
     ]
    },
    {
     "data": {
      "image/png": "[encoded data removed]",
      "text/plain": [
       "<Figure size 432x432 with 3 Axes>"
      ]
     },
     "metadata": {},
     "output_type": "display_data"
    },
    {
     "data": {
      "image/png": "[encoded data removed]",
      "text/plain": [
       "<Figure size 432x432 with 3 Axes>"
      ]
     },
     "metadata": {},
     "output_type": "display_data"
    }
   ],
   "source": [
    "col = 'device_id' # Fill here\n",
    "a = pd.DataFrame([df.groupby(col).mean()['click'], df.groupby(col).count()['click']]).transpose()\n",
    "a.columns = ['mean', 'n_val']\n",
    "sns.jointplot(a['n_val'], a['mean'], alpha=0.25);\n",
    "thres = 10000\n",
    "sns.jointplot(a[a['n_val']<thres]['n_val'], a[a['n_val']<thres]['mean'], alpha=0.25);"
   ]
  },
  {
   "cell_type": "markdown",
   "metadata": {},
   "source": [
    "il y a un id_divice a été utilisé énormément, ce peut signifier un robot ou un attack."
   ]
  },
  {
   "cell_type": "markdown",
   "metadata": {},
   "source": [
    "<font color=\"red\">**Question 26**:   \n",
    "    In the column df['device_id'], spot the value V corresponding to the largest number of 'count' (using '.value_counts' method). Create a new column df['user'] defined as follows:\n",
    "</font>\n",
    "$$\n",
    "\\text{user} = \\left\\{\\begin{array}[h]{ll} \\text{device_ip + device_model} & \\text{if device_id = V}\\\\ \\text{device_id} & \\text{else.}\\end{array}\\right.\n",
    "$$"
   ]
  },
  {
   "cell_type": "code",
   "execution_count": 73,
   "metadata": {},
   "outputs": [],
   "source": [
    "V = a['n_val'].idxmax() # Fill here\n",
    "df['user'] = np.where(df['device_id']==V, df['device_ip'] + df['device_model'], df['device_id']) # Fill here"
   ]
  },
  {
   "cell_type": "code",
   "execution_count": 75,
   "metadata": {},
   "outputs": [
    {
     "data": {
      "text/html": [
       "<div>\n",
       "<style scoped>\n",
       "    .dataframe tbody tr th:only-of-type {\n",
       "        vertical-align: middle;\n",
       "    }\n",
       "\n",
       "    .dataframe tbody tr th {\n",
       "        vertical-align: top;\n",
       "    }\n",
       "\n",
       "    .dataframe thead th {\n",
       "        text-align: right;\n",
       "    }\n",
       "</style>\n",
       "<table border=\"1\" class=\"dataframe\">\n",
       "  <thead>\n",
       "    <tr style=\"text-align: right;\">\n",
       "      <th></th>\n",
       "      <th>device_id</th>\n",
       "      <th>device_ip</th>\n",
       "      <th>device_model</th>\n",
       "      <th>user</th>\n",
       "    </tr>\n",
       "  </thead>\n",
       "  <tbody>\n",
       "    <tr>\n",
       "      <th>0</th>\n",
       "      <td>a99f214a</td>\n",
       "      <td>fb6566d3</td>\n",
       "      <td>be87996b</td>\n",
       "      <td>fb6566d3be87996b</td>\n",
       "    </tr>\n",
       "    <tr>\n",
       "      <th>1</th>\n",
       "      <td>9b7af851</td>\n",
       "      <td>ac5a4a77</td>\n",
       "      <td>7e6190f3</td>\n",
       "      <td>9b7af851</td>\n",
       "    </tr>\n",
       "    <tr>\n",
       "      <th>2</th>\n",
       "      <td>a99f214a</td>\n",
       "      <td>748e298a</td>\n",
       "      <td>3c55fad5</td>\n",
       "      <td>748e298a3c55fad5</td>\n",
       "    </tr>\n",
       "    <tr>\n",
       "      <th>3</th>\n",
       "      <td>a99f214a</td>\n",
       "      <td>a50da3d4</td>\n",
       "      <td>c5cc73c1</td>\n",
       "      <td>a50da3d4c5cc73c1</td>\n",
       "    </tr>\n",
       "    <tr>\n",
       "      <th>4</th>\n",
       "      <td>a99f214a</td>\n",
       "      <td>d5f88679</td>\n",
       "      <td>a5bce124</td>\n",
       "      <td>d5f88679a5bce124</td>\n",
       "    </tr>\n",
       "  </tbody>\n",
       "</table>\n",
       "</div>"
      ],
      "text/plain": [
       "  device_id device_ip device_model              user\n",
       "0  a99f214a  fb6566d3     be87996b  fb6566d3be87996b\n",
       "1  9b7af851  ac5a4a77     7e6190f3          9b7af851\n",
       "2  a99f214a  748e298a     3c55fad5  748e298a3c55fad5\n",
       "3  a99f214a  a50da3d4     c5cc73c1  a50da3d4c5cc73c1\n",
       "4  a99f214a  d5f88679     a5bce124  d5f88679a5bce124"
      ]
     },
     "execution_count": 75,
     "metadata": {},
     "output_type": "execute_result"
    }
   ],
   "source": [
    "df[['device_id','device_ip', 'device_model','user']].head(5)"
   ]
  },
  {
   "cell_type": "markdown",
   "metadata": {},
   "source": [
    "<font color=\"red\">**Question 27**:\n",
    "    Drop the following columns: 'device_id','device_model','device_ip'\n",
    "</font>"
   ]
  },
  {
   "cell_type": "code",
   "execution_count": 79,
   "metadata": {},
   "outputs": [],
   "source": [
    "df.drop(columns=['device_id','device_ip', 'device_model'], inplace =True)"
   ]
  },
  {
   "cell_type": "markdown",
   "metadata": {},
   "source": [
    "<font color=\"red\">**Question 28**:\n",
    "    One could look at the similarity between 'site_id' and 'site_domain'. Merge those columns into a new 'site' column and delete the old 'site_id' and 'site_domain' columns.\n",
    "</font>"
   ]
  },
  {
   "cell_type": "code",
   "execution_count": 83,
   "metadata": {},
   "outputs": [
    {
     "data": {
      "text/plain": [
       "0.0"
      ]
     },
     "execution_count": 83,
     "metadata": {},
     "output_type": "execute_result"
    }
   ],
   "source": [
    "np.mean(df['site_id'] == df['site_domain'])"
   ]
  },
  {
   "cell_type": "code",
   "execution_count": 84,
   "metadata": {},
   "outputs": [],
   "source": [
    "df['site'] = df['site_id'] + df['site_domain']"
   ]
  },
  {
   "cell_type": "code",
   "execution_count": 87,
   "metadata": {},
   "outputs": [],
   "source": [
    "df.drop(columns = ['site_id','site_domain'],inplace = True)"
   ]
  },
  {
   "cell_type": "markdown",
   "metadata": {},
   "source": [
    "<font color=\"red\">**Question 29**:\n",
    "    Once again, split the modified DataFrame df into a train (90%) and a test set (10%) (with option: random_state = 100).\n",
    "</font>"
   ]
  },
  {
   "cell_type": "code",
   "execution_count": 89,
   "metadata": {},
   "outputs": [
    {
     "data": {
      "text/plain": [
       "Index(['id', 'click', 'hour', 'C1', 'banner_pos', 'site_category', 'app_id',\n",
       "       'app_domain', 'app_category', 'device_type', 'device_conn_type', 'C14',\n",
       "       'C15', 'C16', 'C17', 'C18', 'C19', 'C20', 'C21', 'weekday', 'user',\n",
       "       'site'],\n",
       "      dtype='object')"
      ]
     },
     "execution_count": 89,
     "metadata": {},
     "output_type": "execute_result"
    }
   ],
   "source": [
    "df.columns"
   ]
  },
  {
   "cell_type": "code",
   "execution_count": 90,
   "metadata": {},
   "outputs": [],
   "source": [
    "Xtrain, Xtest, ytrain, ytest = train_test_split(df.drop(['id', 'click'], axis=1), df['click'],test_size=0.1, random_state=100)"
   ]
  },
  {
   "cell_type": "markdown",
   "metadata": {},
   "source": [
    "<font color=\"red\">**Question 30**:\n",
    "    Define a OneHotEncoder and then, 'fit_transform' the train set.\n",
    "</font>"
   ]
  },
  {
   "cell_type": "code",
   "execution_count": 94,
   "metadata": {},
   "outputs": [],
   "source": [
    "ohe = OneHotEncoder(handle_unknown='ignore')\n",
    "Xtrain_oh = ohe.fit_transform(Xtrain) # Fill here"
   ]
  },
  {
   "cell_type": "markdown",
   "metadata": {},
   "source": [
    "<font color=\"red\">**Question 31**:\n",
    "    Transform the test set. If an error occurs, analyze it and try to solve it. Which argument did you set ?\n",
    "</font>"
   ]
  },
  {
   "cell_type": "code",
   "execution_count": 95,
   "metadata": {},
   "outputs": [],
   "source": [
    "Xtest_oh = ohe.transform(Xtest) # Fill here"
   ]
  },
  {
   "cell_type": "markdown",
   "metadata": {},
   "source": [
    "dans le train set, il n'existe pas certain modalité dans test set, donc on utilise handle_unknow='ignore' to ignore les nouveau modalité"
   ]
  },
  {
   "cell_type": "markdown",
   "metadata": {},
   "source": [
    "<font color=\"red\">**Question 32**:\n",
    "    What is the new number of features?\n",
    "</font>"
   ]
  },
  {
   "cell_type": "code",
   "execution_count": 96,
   "metadata": {},
   "outputs": [
    {
     "data": {
      "text/plain": [
       "(900000, 713334)"
      ]
     },
     "execution_count": 96,
     "metadata": {},
     "output_type": "execute_result"
    }
   ],
   "source": [
    "Xtrain_oh.shape"
   ]
  },
  {
   "cell_type": "code",
   "execution_count": 97,
   "metadata": {},
   "outputs": [
    {
     "data": {
      "text/plain": [
       "(100000, 713334)"
      ]
     },
     "execution_count": 97,
     "metadata": {},
     "output_type": "execute_result"
    }
   ],
   "source": [
    "Xtest_oh.shape"
   ]
  },
  {
   "cell_type": "markdown",
   "metadata": {},
   "source": [
    "<font color=\"red\">**Question 33**:\n",
    "    How many modalities have been seen more than a 100 times?\n",
    "</font>"
   ]
  },
  {
   "cell_type": "code",
   "execution_count": 125,
   "metadata": {},
   "outputs": [
    {
     "data": {
      "text/plain": [
       "1971"
      ]
     },
     "execution_count": 125,
     "metadata": {},
     "output_type": "execute_result"
    }
   ],
   "source": [
    "# The following 'n_ones' vector below gives the number of '1' in each column/modality of the Xtrain_oh design matrix.\n",
    "n_ones = np.array(Xtrain_oh.sum(axis=0))\n",
    "np.sum(n_ones>100) # Fill here using 'n_ones'"
   ]
  },
  {
   "cell_type": "markdown",
   "metadata": {},
   "source": [
    "nous avons 1971 modalités ont plus de 100 occurence"
   ]
  },
  {
   "cell_type": "markdown",
   "metadata": {},
   "source": [
    "The list 'cols_to_keep' below is used to store the indices of the modalities seen more than a 100 times. You can notice the use of the 'enumerate' function."
   ]
  },
  {
   "cell_type": "code",
   "execution_count": 131,
   "metadata": {},
   "outputs": [],
   "source": [
    "useful = [item for sublist in np.ndarray.tolist(n_ones>100) for item in sublist]# Fill here.\n",
    "cols_to_keep = [i for i, x in enumerate(useful) if x] # Fill here."
   ]
  },
  {
   "cell_type": "markdown",
   "metadata": {},
   "source": [
    "<font color=\"red\">**Question 34**:\n",
    "    Using only our restriction on the 'cols_to_keep' columns, retrain a logistic regression model and compare its performance in terms of 'log_loss' and 'roc_auc_curve'.\n",
    "</font>"
   ]
  },
  {
   "cell_type": "code",
   "execution_count": 144,
   "metadata": {},
   "outputs": [
    {
     "data": {
      "text/plain": [
       "LogisticRegression(C=1.0, class_weight=None, dual=False, fit_intercept=True,\n",
       "          intercept_scaling=1, max_iter=500, multi_class='warn',\n",
       "          n_jobs=None, penalty='l2', random_state=None, solver='newton-cg',\n",
       "          tol=0.0001, verbose=0, warm_start=False)"
      ]
     },
     "execution_count": 144,
     "metadata": {},
     "output_type": "execute_result"
    }
   ],
   "source": [
    "lr = LogisticRegression(solver='newton-cg', max_iter=500)\n",
    "lr.fit(Xtrain_oh[:,cols_to_keep],ytrain) #Fill here."
   ]
  },
  {
   "cell_type": "code",
   "execution_count": 145,
   "metadata": {},
   "outputs": [],
   "source": [
    "hard = lr.predict(Xtest_oh[:,cols_to_keep])"
   ]
  },
  {
   "cell_type": "code",
   "execution_count": 146,
   "metadata": {},
   "outputs": [
    {
     "name": "stdout",
     "output_type": "stream",
     "text": [
      "log_loss :  5.742423704024187\n",
      "roc_auc_score :  0.5307430478310321\n"
     ]
    }
   ],
   "source": [
    "print(\"log_loss : \",metrics.log_loss(ytest, hard))\n",
    "print(\"roc_auc_score : \",metrics.roc_auc_score(ytest, hard))"
   ]
  },
  {
   "cell_type": "markdown",
   "metadata": {},
   "source": [
    "# Gradient Boosting Decision Trees"
   ]
  },
  {
   "cell_type": "markdown",
   "metadata": {},
   "source": [
    "<font color=\"red\">**Question 35**:\n",
    "    <br>\n",
    "    - Import GradientBoostingClassifier from scikit learn. \n",
    "    <br>\n",
    "    - Initialize it using 50 estimators and a learning rate of 0.8. Set 'verbose=True' to monitor the progress of the algorithm.\n",
    "    <br>\n",
    "    - Fit it on the same columns 'cols_to_keep' of Xtrain_oh than for the previous logistic regression.\n",
    "    <br>\n",
    "    - Evaluate its performance as in the previous step.\n",
    "</font>"
   ]
  },
  {
   "cell_type": "code",
   "execution_count": 147,
   "metadata": {},
   "outputs": [
    {
     "name": "stdout",
     "output_type": "stream",
     "text": [
      "      Iter       Train Loss   Remaining Time \n",
      "         1           0.8743            3.95m\n",
      "         2           0.8646            3.75m\n",
      "         3           0.8583            3.70m\n",
      "         4           0.8535            3.59m\n",
      "         5           0.8503            3.50m\n",
      "         6           0.8464            3.42m\n",
      "         7           0.8441            3.33m\n",
      "         8           0.8418            3.26m\n",
      "         9           0.8404            3.18m\n",
      "        10           0.8383            3.10m\n",
      "        20           0.8282            2.33m\n",
      "        30           0.8234            1.55m\n",
      "        40           0.8190           46.69s\n",
      "        50           0.8163            0.00s\n"
     ]
    }
   ],
   "source": [
    "from sklearn.ensemble import GradientBoostingClassifier\n",
    "gb = GradientBoostingClassifier(n_estimators=50, learning_rate=0.8,verbose=True).fit(Xtrain_oh[:,cols_to_keep],ytrain)\n",
    "# Fill here"
   ]
  },
  {
   "cell_type": "code",
   "execution_count": 150,
   "metadata": {},
   "outputs": [
    {
     "name": "stdout",
     "output_type": "stream",
     "text": [
      "log_loss :  5.753475432812743\n",
      "roc_auc_score :  0.5278141281327835\n"
     ]
    }
   ],
   "source": [
    "#hard = gb.predict(Xtest_oh)\n",
    "soft = gb.predict(Xtest_oh[:,cols_to_keep])\n",
    "\n",
    "print(\"log_loss : \",metrics.log_loss(ytest, soft))\n",
    "print(\"roc_auc_score : \",metrics.roc_auc_score(ytest, soft))"
   ]
  },
  {
   "cell_type": "markdown",
   "metadata": {},
   "source": [
    "<font color=\"red\">**Question 36**:\n",
    "    What does the 'gb.estimators_' output?\n",
    "</font>"
   ]
  },
  {
   "cell_type": "code",
   "execution_count": 151,
   "metadata": {},
   "outputs": [
    {
     "data": {
      "text/plain": [
       "array([[DecisionTreeRegressor(criterion='friedman_mse', max_depth=3,\n",
       "           max_features=None, max_leaf_nodes=None,\n",
       "           min_impurity_decrease=0.0, min_impurity_split=None,\n",
       "           min_samples_leaf=1, min_samples_split=2,\n",
       "           min_weight_fraction_leaf=0.0, presort='auto',\n",
       "           random_state=<mtrand.RandomState object at 0x7f3f2c082948>,\n",
       "           splitter='best')],\n",
       "       [DecisionTreeRegressor(criterion='friedman_mse', max_depth=3,\n",
       "           max_features=None, max_leaf_nodes=None,\n",
       "           min_impurity_decrease=0.0, min_impurity_split=None,\n",
       "           min_samples_leaf=1, min_samples_split=2,\n",
       "           min_weight_fraction_leaf=0.0, presort='auto',\n",
       "           random_state=<mtrand.RandomState object at 0x7f3f2c082948>,\n",
       "           splitter='best')],\n",
       "       [DecisionTreeRegressor(criterion='friedman_mse', max_depth=3,\n",
       "           max_features=None, max_leaf_nodes=None,\n",
       "           min_impurity_decrease=0.0, min_impurity_split=None,\n",
       "           min_samples_leaf=1, min_samples_split=2,\n",
       "           min_weight_fraction_leaf=0.0, presort='auto',\n",
       "           random_state=<mtrand.RandomState object at 0x7f3f2c082948>,\n",
       "           splitter='best')],\n",
       "       [DecisionTreeRegressor(criterion='friedman_mse', max_depth=3,\n",
       "           max_features=None, max_leaf_nodes=None,\n",
       "           min_impurity_decrease=0.0, min_impurity_split=None,\n",
       "           min_samples_leaf=1, min_samples_split=2,\n",
       "           min_weight_fraction_leaf=0.0, presort='auto',\n",
       "           random_state=<mtrand.RandomState object at 0x7f3f2c082948>,\n",
       "           splitter='best')],\n",
       "       [DecisionTreeRegressor(criterion='friedman_mse', max_depth=3,\n",
       "           max_features=None, max_leaf_nodes=None,\n",
       "           min_impurity_decrease=0.0, min_impurity_split=None,\n",
       "           min_samples_leaf=1, min_samples_split=2,\n",
       "           min_weight_fraction_leaf=0.0, presort='auto',\n",
       "           random_state=<mtrand.RandomState object at 0x7f3f2c082948>,\n",
       "           splitter='best')],\n",
       "       [DecisionTreeRegressor(criterion='friedman_mse', max_depth=3,\n",
       "           max_features=None, max_leaf_nodes=None,\n",
       "           min_impurity_decrease=0.0, min_impurity_split=None,\n",
       "           min_samples_leaf=1, min_samples_split=2,\n",
       "           min_weight_fraction_leaf=0.0, presort='auto',\n",
       "           random_state=<mtrand.RandomState object at 0x7f3f2c082948>,\n",
       "           splitter='best')],\n",
       "       [DecisionTreeRegressor(criterion='friedman_mse', max_depth=3,\n",
       "           max_features=None, max_leaf_nodes=None,\n",
       "           min_impurity_decrease=0.0, min_impurity_split=None,\n",
       "           min_samples_leaf=1, min_samples_split=2,\n",
       "           min_weight_fraction_leaf=0.0, presort='auto',\n",
       "           random_state=<mtrand.RandomState object at 0x7f3f2c082948>,\n",
       "           splitter='best')],\n",
       "       [DecisionTreeRegressor(criterion='friedman_mse', max_depth=3,\n",
       "           max_features=None, max_leaf_nodes=None,\n",
       "           min_impurity_decrease=0.0, min_impurity_split=None,\n",
       "           min_samples_leaf=1, min_samples_split=2,\n",
       "           min_weight_fraction_leaf=0.0, presort='auto',\n",
       "           random_state=<mtrand.RandomState object at 0x7f3f2c082948>,\n",
       "           splitter='best')],\n",
       "       [DecisionTreeRegressor(criterion='friedman_mse', max_depth=3,\n",
       "           max_features=None, max_leaf_nodes=None,\n",
       "           min_impurity_decrease=0.0, min_impurity_split=None,\n",
       "           min_samples_leaf=1, min_samples_split=2,\n",
       "           min_weight_fraction_leaf=0.0, presort='auto',\n",
       "           random_state=<mtrand.RandomState object at 0x7f3f2c082948>,\n",
       "           splitter='best')],\n",
       "       [DecisionTreeRegressor(criterion='friedman_mse', max_depth=3,\n",
       "           max_features=None, max_leaf_nodes=None,\n",
       "           min_impurity_decrease=0.0, min_impurity_split=None,\n",
       "           min_samples_leaf=1, min_samples_split=2,\n",
       "           min_weight_fraction_leaf=0.0, presort='auto',\n",
       "           random_state=<mtrand.RandomState object at 0x7f3f2c082948>,\n",
       "           splitter='best')],\n",
       "       [DecisionTreeRegressor(criterion='friedman_mse', max_depth=3,\n",
       "           max_features=None, max_leaf_nodes=None,\n",
       "           min_impurity_decrease=0.0, min_impurity_split=None,\n",
       "           min_samples_leaf=1, min_samples_split=2,\n",
       "           min_weight_fraction_leaf=0.0, presort='auto',\n",
       "           random_state=<mtrand.RandomState object at 0x7f3f2c082948>,\n",
       "           splitter='best')],\n",
       "       [DecisionTreeRegressor(criterion='friedman_mse', max_depth=3,\n",
       "           max_features=None, max_leaf_nodes=None,\n",
       "           min_impurity_decrease=0.0, min_impurity_split=None,\n",
       "           min_samples_leaf=1, min_samples_split=2,\n",
       "           min_weight_fraction_leaf=0.0, presort='auto',\n",
       "           random_state=<mtrand.RandomState object at 0x7f3f2c082948>,\n",
       "           splitter='best')],\n",
       "       [DecisionTreeRegressor(criterion='friedman_mse', max_depth=3,\n",
       "           max_features=None, max_leaf_nodes=None,\n",
       "           min_impurity_decrease=0.0, min_impurity_split=None,\n",
       "           min_samples_leaf=1, min_samples_split=2,\n",
       "           min_weight_fraction_leaf=0.0, presort='auto',\n",
       "           random_state=<mtrand.RandomState object at 0x7f3f2c082948>,\n",
       "           splitter='best')],\n",
       "       [DecisionTreeRegressor(criterion='friedman_mse', max_depth=3,\n",
       "           max_features=None, max_leaf_nodes=None,\n",
       "           min_impurity_decrease=0.0, min_impurity_split=None,\n",
       "           min_samples_leaf=1, min_samples_split=2,\n",
       "           min_weight_fraction_leaf=0.0, presort='auto',\n",
       "           random_state=<mtrand.RandomState object at 0x7f3f2c082948>,\n",
       "           splitter='best')],\n",
       "       [DecisionTreeRegressor(criterion='friedman_mse', max_depth=3,\n",
       "           max_features=None, max_leaf_nodes=None,\n",
       "           min_impurity_decrease=0.0, min_impurity_split=None,\n",
       "           min_samples_leaf=1, min_samples_split=2,\n",
       "           min_weight_fraction_leaf=0.0, presort='auto',\n",
       "           random_state=<mtrand.RandomState object at 0x7f3f2c082948>,\n",
       "           splitter='best')],\n",
       "       [DecisionTreeRegressor(criterion='friedman_mse', max_depth=3,\n",
       "           max_features=None, max_leaf_nodes=None,\n",
       "           min_impurity_decrease=0.0, min_impurity_split=None,\n",
       "           min_samples_leaf=1, min_samples_split=2,\n",
       "           min_weight_fraction_leaf=0.0, presort='auto',\n",
       "           random_state=<mtrand.RandomState object at 0x7f3f2c082948>,\n",
       "           splitter='best')],\n",
       "       [DecisionTreeRegressor(criterion='friedman_mse', max_depth=3,\n",
       "           max_features=None, max_leaf_nodes=None,\n",
       "           min_impurity_decrease=0.0, min_impurity_split=None,\n",
       "           min_samples_leaf=1, min_samples_split=2,\n",
       "           min_weight_fraction_leaf=0.0, presort='auto',\n",
       "           random_state=<mtrand.RandomState object at 0x7f3f2c082948>,\n",
       "           splitter='best')],\n",
       "       [DecisionTreeRegressor(criterion='friedman_mse', max_depth=3,\n",
       "           max_features=None, max_leaf_nodes=None,\n",
       "           min_impurity_decrease=0.0, min_impurity_split=None,\n",
       "           min_samples_leaf=1, min_samples_split=2,\n",
       "           min_weight_fraction_leaf=0.0, presort='auto',\n",
       "           random_state=<mtrand.RandomState object at 0x7f3f2c082948>,\n",
       "           splitter='best')],\n",
       "       [DecisionTreeRegressor(criterion='friedman_mse', max_depth=3,\n",
       "           max_features=None, max_leaf_nodes=None,\n",
       "           min_impurity_decrease=0.0, min_impurity_split=None,\n",
       "           min_samples_leaf=1, min_samples_split=2,\n",
       "           min_weight_fraction_leaf=0.0, presort='auto',\n",
       "           random_state=<mtrand.RandomState object at 0x7f3f2c082948>,\n",
       "           splitter='best')],\n",
       "       [DecisionTreeRegressor(criterion='friedman_mse', max_depth=3,\n",
       "           max_features=None, max_leaf_nodes=None,\n",
       "           min_impurity_decrease=0.0, min_impurity_split=None,\n",
       "           min_samples_leaf=1, min_samples_split=2,\n",
       "           min_weight_fraction_leaf=0.0, presort='auto',\n",
       "           random_state=<mtrand.RandomState object at 0x7f3f2c082948>,\n",
       "           splitter='best')],\n",
       "       [DecisionTreeRegressor(criterion='friedman_mse', max_depth=3,\n",
       "           max_features=None, max_leaf_nodes=None,\n",
       "           min_impurity_decrease=0.0, min_impurity_split=None,\n",
       "           min_samples_leaf=1, min_samples_split=2,\n",
       "           min_weight_fraction_leaf=0.0, presort='auto',\n",
       "           random_state=<mtrand.RandomState object at 0x7f3f2c082948>,\n",
       "           splitter='best')],\n",
       "       [DecisionTreeRegressor(criterion='friedman_mse', max_depth=3,\n",
       "           max_features=None, max_leaf_nodes=None,\n",
       "           min_impurity_decrease=0.0, min_impurity_split=None,\n",
       "           min_samples_leaf=1, min_samples_split=2,\n",
       "           min_weight_fraction_leaf=0.0, presort='auto',\n",
       "           random_state=<mtrand.RandomState object at 0x7f3f2c082948>,\n",
       "           splitter='best')],\n",
       "       [DecisionTreeRegressor(criterion='friedman_mse', max_depth=3,\n",
       "           max_features=None, max_leaf_nodes=None,\n",
       "           min_impurity_decrease=0.0, min_impurity_split=None,\n",
       "           min_samples_leaf=1, min_samples_split=2,\n",
       "           min_weight_fraction_leaf=0.0, presort='auto',\n",
       "           random_state=<mtrand.RandomState object at 0x7f3f2c082948>,\n",
       "           splitter='best')],\n",
       "       [DecisionTreeRegressor(criterion='friedman_mse', max_depth=3,\n",
       "           max_features=None, max_leaf_nodes=None,\n",
       "           min_impurity_decrease=0.0, min_impurity_split=None,\n",
       "           min_samples_leaf=1, min_samples_split=2,\n",
       "           min_weight_fraction_leaf=0.0, presort='auto',\n",
       "           random_state=<mtrand.RandomState object at 0x7f3f2c082948>,\n",
       "           splitter='best')],\n",
       "       [DecisionTreeRegressor(criterion='friedman_mse', max_depth=3,\n",
       "           max_features=None, max_leaf_nodes=None,\n",
       "           min_impurity_decrease=0.0, min_impurity_split=None,\n",
       "           min_samples_leaf=1, min_samples_split=2,\n",
       "           min_weight_fraction_leaf=0.0, presort='auto',\n",
       "           random_state=<mtrand.RandomState object at 0x7f3f2c082948>,\n",
       "           splitter='best')],\n",
       "       [DecisionTreeRegressor(criterion='friedman_mse', max_depth=3,\n",
       "           max_features=None, max_leaf_nodes=None,\n",
       "           min_impurity_decrease=0.0, min_impurity_split=None,\n",
       "           min_samples_leaf=1, min_samples_split=2,\n",
       "           min_weight_fraction_leaf=0.0, presort='auto',\n",
       "           random_state=<mtrand.RandomState object at 0x7f3f2c082948>,\n",
       "           splitter='best')],\n",
       "       [DecisionTreeRegressor(criterion='friedman_mse', max_depth=3,\n",
       "           max_features=None, max_leaf_nodes=None,\n",
       "           min_impurity_decrease=0.0, min_impurity_split=None,\n",
       "           min_samples_leaf=1, min_samples_split=2,\n",
       "           min_weight_fraction_leaf=0.0, presort='auto',\n",
       "           random_state=<mtrand.RandomState object at 0x7f3f2c082948>,\n",
       "           splitter='best')],\n",
       "       [DecisionTreeRegressor(criterion='friedman_mse', max_depth=3,\n",
       "           max_features=None, max_leaf_nodes=None,\n",
       "           min_impurity_decrease=0.0, min_impurity_split=None,\n",
       "           min_samples_leaf=1, min_samples_split=2,\n",
       "           min_weight_fraction_leaf=0.0, presort='auto',\n",
       "           random_state=<mtrand.RandomState object at 0x7f3f2c082948>,\n",
       "           splitter='best')],\n",
       "       [DecisionTreeRegressor(criterion='friedman_mse', max_depth=3,\n",
       "           max_features=None, max_leaf_nodes=None,\n",
       "           min_impurity_decrease=0.0, min_impurity_split=None,\n",
       "           min_samples_leaf=1, min_samples_split=2,\n",
       "           min_weight_fraction_leaf=0.0, presort='auto',\n",
       "           random_state=<mtrand.RandomState object at 0x7f3f2c082948>,\n",
       "           splitter='best')],\n",
       "       [DecisionTreeRegressor(criterion='friedman_mse', max_depth=3,\n",
       "           max_features=None, max_leaf_nodes=None,\n",
       "           min_impurity_decrease=0.0, min_impurity_split=None,\n",
       "           min_samples_leaf=1, min_samples_split=2,\n",
       "           min_weight_fraction_leaf=0.0, presort='auto',\n",
       "           random_state=<mtrand.RandomState object at 0x7f3f2c082948>,\n",
       "           splitter='best')],\n",
       "       [DecisionTreeRegressor(criterion='friedman_mse', max_depth=3,\n",
       "           max_features=None, max_leaf_nodes=None,\n",
       "           min_impurity_decrease=0.0, min_impurity_split=None,\n",
       "           min_samples_leaf=1, min_samples_split=2,\n",
       "           min_weight_fraction_leaf=0.0, presort='auto',\n",
       "           random_state=<mtrand.RandomState object at 0x7f3f2c082948>,\n",
       "           splitter='best')],\n",
       "       [DecisionTreeRegressor(criterion='friedman_mse', max_depth=3,\n",
       "           max_features=None, max_leaf_nodes=None,\n",
       "           min_impurity_decrease=0.0, min_impurity_split=None,\n",
       "           min_samples_leaf=1, min_samples_split=2,\n",
       "           min_weight_fraction_leaf=0.0, presort='auto',\n",
       "           random_state=<mtrand.RandomState object at 0x7f3f2c082948>,\n",
       "           splitter='best')],\n",
       "       [DecisionTreeRegressor(criterion='friedman_mse', max_depth=3,\n",
       "           max_features=None, max_leaf_nodes=None,\n",
       "           min_impurity_decrease=0.0, min_impurity_split=None,\n",
       "           min_samples_leaf=1, min_samples_split=2,\n",
       "           min_weight_fraction_leaf=0.0, presort='auto',\n",
       "           random_state=<mtrand.RandomState object at 0x7f3f2c082948>,\n",
       "           splitter='best')],\n",
       "       [DecisionTreeRegressor(criterion='friedman_mse', max_depth=3,\n",
       "           max_features=None, max_leaf_nodes=None,\n",
       "           min_impurity_decrease=0.0, min_impurity_split=None,\n",
       "           min_samples_leaf=1, min_samples_split=2,\n",
       "           min_weight_fraction_leaf=0.0, presort='auto',\n",
       "           random_state=<mtrand.RandomState object at 0x7f3f2c082948>,\n",
       "           splitter='best')],\n",
       "       [DecisionTreeRegressor(criterion='friedman_mse', max_depth=3,\n",
       "           max_features=None, max_leaf_nodes=None,\n",
       "           min_impurity_decrease=0.0, min_impurity_split=None,\n",
       "           min_samples_leaf=1, min_samples_split=2,\n",
       "           min_weight_fraction_leaf=0.0, presort='auto',\n",
       "           random_state=<mtrand.RandomState object at 0x7f3f2c082948>,\n",
       "           splitter='best')],\n",
       "       [DecisionTreeRegressor(criterion='friedman_mse', max_depth=3,\n",
       "           max_features=None, max_leaf_nodes=None,\n",
       "           min_impurity_decrease=0.0, min_impurity_split=None,\n",
       "           min_samples_leaf=1, min_samples_split=2,\n",
       "           min_weight_fraction_leaf=0.0, presort='auto',\n",
       "           random_state=<mtrand.RandomState object at 0x7f3f2c082948>,\n",
       "           splitter='best')],\n",
       "       [DecisionTreeRegressor(criterion='friedman_mse', max_depth=3,\n",
       "           max_features=None, max_leaf_nodes=None,\n",
       "           min_impurity_decrease=0.0, min_impurity_split=None,\n",
       "           min_samples_leaf=1, min_samples_split=2,\n",
       "           min_weight_fraction_leaf=0.0, presort='auto',\n",
       "           random_state=<mtrand.RandomState object at 0x7f3f2c082948>,\n",
       "           splitter='best')],\n",
       "       [DecisionTreeRegressor(criterion='friedman_mse', max_depth=3,\n",
       "           max_features=None, max_leaf_nodes=None,\n",
       "           min_impurity_decrease=0.0, min_impurity_split=None,\n",
       "           min_samples_leaf=1, min_samples_split=2,\n",
       "           min_weight_fraction_leaf=0.0, presort='auto',\n",
       "           random_state=<mtrand.RandomState object at 0x7f3f2c082948>,\n",
       "           splitter='best')],\n",
       "       [DecisionTreeRegressor(criterion='friedman_mse', max_depth=3,\n",
       "           max_features=None, max_leaf_nodes=None,\n",
       "           min_impurity_decrease=0.0, min_impurity_split=None,\n",
       "           min_samples_leaf=1, min_samples_split=2,\n",
       "           min_weight_fraction_leaf=0.0, presort='auto',\n",
       "           random_state=<mtrand.RandomState object at 0x7f3f2c082948>,\n",
       "           splitter='best')],\n",
       "       [DecisionTreeRegressor(criterion='friedman_mse', max_depth=3,\n",
       "           max_features=None, max_leaf_nodes=None,\n",
       "           min_impurity_decrease=0.0, min_impurity_split=None,\n",
       "           min_samples_leaf=1, min_samples_split=2,\n",
       "           min_weight_fraction_leaf=0.0, presort='auto',\n",
       "           random_state=<mtrand.RandomState object at 0x7f3f2c082948>,\n",
       "           splitter='best')],\n",
       "       [DecisionTreeRegressor(criterion='friedman_mse', max_depth=3,\n",
       "           max_features=None, max_leaf_nodes=None,\n",
       "           min_impurity_decrease=0.0, min_impurity_split=None,\n",
       "           min_samples_leaf=1, min_samples_split=2,\n",
       "           min_weight_fraction_leaf=0.0, presort='auto',\n",
       "           random_state=<mtrand.RandomState object at 0x7f3f2c082948>,\n",
       "           splitter='best')],\n",
       "       [DecisionTreeRegressor(criterion='friedman_mse', max_depth=3,\n",
       "           max_features=None, max_leaf_nodes=None,\n",
       "           min_impurity_decrease=0.0, min_impurity_split=None,\n",
       "           min_samples_leaf=1, min_samples_split=2,\n",
       "           min_weight_fraction_leaf=0.0, presort='auto',\n",
       "           random_state=<mtrand.RandomState object at 0x7f3f2c082948>,\n",
       "           splitter='best')],\n",
       "       [DecisionTreeRegressor(criterion='friedman_mse', max_depth=3,\n",
       "           max_features=None, max_leaf_nodes=None,\n",
       "           min_impurity_decrease=0.0, min_impurity_split=None,\n",
       "           min_samples_leaf=1, min_samples_split=2,\n",
       "           min_weight_fraction_leaf=0.0, presort='auto',\n",
       "           random_state=<mtrand.RandomState object at 0x7f3f2c082948>,\n",
       "           splitter='best')],\n",
       "       [DecisionTreeRegressor(criterion='friedman_mse', max_depth=3,\n",
       "           max_features=None, max_leaf_nodes=None,\n",
       "           min_impurity_decrease=0.0, min_impurity_split=None,\n",
       "           min_samples_leaf=1, min_samples_split=2,\n",
       "           min_weight_fraction_leaf=0.0, presort='auto',\n",
       "           random_state=<mtrand.RandomState object at 0x7f3f2c082948>,\n",
       "           splitter='best')],\n",
       "       [DecisionTreeRegressor(criterion='friedman_mse', max_depth=3,\n",
       "           max_features=None, max_leaf_nodes=None,\n",
       "           min_impurity_decrease=0.0, min_impurity_split=None,\n",
       "           min_samples_leaf=1, min_samples_split=2,\n",
       "           min_weight_fraction_leaf=0.0, presort='auto',\n",
       "           random_state=<mtrand.RandomState object at 0x7f3f2c082948>,\n",
       "           splitter='best')],\n",
       "       [DecisionTreeRegressor(criterion='friedman_mse', max_depth=3,\n",
       "           max_features=None, max_leaf_nodes=None,\n",
       "           min_impurity_decrease=0.0, min_impurity_split=None,\n",
       "           min_samples_leaf=1, min_samples_split=2,\n",
       "           min_weight_fraction_leaf=0.0, presort='auto',\n",
       "           random_state=<mtrand.RandomState object at 0x7f3f2c082948>,\n",
       "           splitter='best')],\n",
       "       [DecisionTreeRegressor(criterion='friedman_mse', max_depth=3,\n",
       "           max_features=None, max_leaf_nodes=None,\n",
       "           min_impurity_decrease=0.0, min_impurity_split=None,\n",
       "           min_samples_leaf=1, min_samples_split=2,\n",
       "           min_weight_fraction_leaf=0.0, presort='auto',\n",
       "           random_state=<mtrand.RandomState object at 0x7f3f2c082948>,\n",
       "           splitter='best')],\n",
       "       [DecisionTreeRegressor(criterion='friedman_mse', max_depth=3,\n",
       "           max_features=None, max_leaf_nodes=None,\n",
       "           min_impurity_decrease=0.0, min_impurity_split=None,\n",
       "           min_samples_leaf=1, min_samples_split=2,\n",
       "           min_weight_fraction_leaf=0.0, presort='auto',\n",
       "           random_state=<mtrand.RandomState object at 0x7f3f2c082948>,\n",
       "           splitter='best')],\n",
       "       [DecisionTreeRegressor(criterion='friedman_mse', max_depth=3,\n",
       "           max_features=None, max_leaf_nodes=None,\n",
       "           min_impurity_decrease=0.0, min_impurity_split=None,\n",
       "           min_samples_leaf=1, min_samples_split=2,\n",
       "           min_weight_fraction_leaf=0.0, presort='auto',\n",
       "           random_state=<mtrand.RandomState object at 0x7f3f2c082948>,\n",
       "           splitter='best')],\n",
       "       [DecisionTreeRegressor(criterion='friedman_mse', max_depth=3,\n",
       "           max_features=None, max_leaf_nodes=None,\n",
       "           min_impurity_decrease=0.0, min_impurity_split=None,\n",
       "           min_samples_leaf=1, min_samples_split=2,\n",
       "           min_weight_fraction_leaf=0.0, presort='auto',\n",
       "           random_state=<mtrand.RandomState object at 0x7f3f2c082948>,\n",
       "           splitter='best')]], dtype=object)"
      ]
     },
     "execution_count": 151,
     "metadata": {},
     "output_type": "execute_result"
    }
   ],
   "source": [
    "gb.estimators_"
   ]
  },
  {
   "cell_type": "markdown",
   "metadata": {},
   "source": [
    "We now try to use the 'gb' classifier to generate features that will be relevant inputs for the logistic regression.\n",
    "<font color=\"red\">**Question 37**:\n",
    "    With the 'gb.apply()' method, generate a transformation 'leafs_train' of the training set 'Xtrain_oh[:, cols_to_keep]' for which the nth column corresponds to the number of the leaf returned by the estimator n.\n",
    "</font>"
   ]
  },
  {
   "cell_type": "code",
   "execution_count": 159,
   "metadata": {},
   "outputs": [],
   "source": [
    "#gb.feature_importances_"
   ]
  },
  {
   "cell_type": "code",
   "execution_count": 161,
   "metadata": {},
   "outputs": [
    {
     "data": {
      "text/plain": [
       "array([[[ 3.],\n",
       "        [ 3.],\n",
       "        [ 3.],\n",
       "        ...,\n",
       "        [ 3.],\n",
       "        [ 3.],\n",
       "        [ 3.]],\n",
       "\n",
       "       [[ 3.],\n",
       "        [ 3.],\n",
       "        [ 3.],\n",
       "        ...,\n",
       "        [ 3.],\n",
       "        [ 3.],\n",
       "        [ 3.]],\n",
       "\n",
       "       [[ 3.],\n",
       "        [ 3.],\n",
       "        [ 3.],\n",
       "        ...,\n",
       "        [ 3.],\n",
       "        [ 3.],\n",
       "        [ 3.]],\n",
       "\n",
       "       ...,\n",
       "\n",
       "       [[ 3.],\n",
       "        [ 3.],\n",
       "        [ 3.],\n",
       "        ...,\n",
       "        [ 3.],\n",
       "        [ 3.],\n",
       "        [ 3.]],\n",
       "\n",
       "       [[ 3.],\n",
       "        [ 3.],\n",
       "        [ 3.],\n",
       "        ...,\n",
       "        [ 3.],\n",
       "        [ 3.],\n",
       "        [ 3.]],\n",
       "\n",
       "       [[ 3.],\n",
       "        [13.],\n",
       "        [ 3.],\n",
       "        ...,\n",
       "        [ 3.],\n",
       "        [ 3.],\n",
       "        [ 3.]]])"
      ]
     },
     "execution_count": 161,
     "metadata": {},
     "output_type": "execute_result"
    }
   ],
   "source": [
    "gb.apply(Xtrain_oh[:, cols_to_keep]) # Fill here."
   ]
  },
  {
   "cell_type": "markdown",
   "metadata": {},
   "source": [
    "After your applied gb.apply on Xtrain_oh[:, cols_to_keep], remember that use have only one class to predict (click = 0 or 1). "
   ]
  },
  {
   "cell_type": "code",
   "execution_count": 183,
   "metadata": {},
   "outputs": [],
   "source": [
    "leafs_train = pd.DataFrame(gb.apply(Xtrain_oh[:, cols_to_keep]).reshape(-1,50)) # Fill here\n",
    "leafs_test = pd.DataFrame(gb.apply(Xtest_oh[:, cols_to_keep]).reshape(-1,50))"
   ]
  },
  {
   "cell_type": "markdown",
   "metadata": {},
   "source": [
    "<font color=\"red\">**Question 38**:\n",
    "    Encode these new features into dummies.\n",
    "</font>"
   ]
  },
  {
   "cell_type": "code",
   "execution_count": null,
   "metadata": {},
   "outputs": [],
   "source": [
    "ohe = OneHotEncoder( ... ) # Fill here an argument if needed\n",
    "leafs_train_oh = ...\n",
    "leafs_test_oh = ..."
   ]
  },
  {
   "cell_type": "markdown",
   "metadata": {},
   "source": [
    "<font color=\"red\">**Question 39**:\n",
    "    With the \"hstack\" function, create a new matrix of features by concatenating horizontally our new features \"leafs_train_oh\" and \"leafs_test_oh\", and previous features used for logistic regression (e.g. in \"Xtrain_oh[:, cols_to_keep]\").\n",
    "</font>\n",
    "<br><br>\n",
    "**Remark**: we use \"hstack\" from scipy.sparse (and not from numpy) because the output of our OneHotEncoder is a sparse array. You can verify it with the command \"type(Xtrain_oh)\"."
   ]
  },
  {
   "cell_type": "code",
   "execution_count": null,
   "metadata": {},
   "outputs": [],
   "source": [
    "from scipy.sparse import csr_matrix, hstack\n",
    "Xtrain_concat = hstack([ ... , ... ]) # Fill here\n",
    "Xtest_concat = ..."
   ]
  },
  {
   "cell_type": "markdown",
   "metadata": {},
   "source": [
    "<font color=\"red\">**Question 40**:\n",
    "    Run a logistic regression on the new features and evaluate its performance as before.\n",
    "</font>"
   ]
  },
  {
   "cell_type": "code",
   "execution_count": null,
   "metadata": {},
   "outputs": [],
   "source": [
    "... # Fill here."
   ]
  },
  {
   "cell_type": "markdown",
   "metadata": {},
   "source": [
    "<font color=\"red\">**Question 41**:\n",
    "    <br>\n",
    "    - Import XGBClassifier from xgboost package.\n",
    "    <br>\n",
    "    - Initialize it using the same number of estimators and learning rate as before. \n",
    "    <br>\n",
    "    - Which value of n_jobs did you choose?\n",
    "    <br>\n",
    "    - Fit it on the same columns 'cols_to_keep' of Xtrain_oh than for the previous logistic regression.\n",
    "    <br>\n",
    "    - Evaluate its performance and compare it to the GradientBoosting classifier of scikit learn. How is the error? Does it take more time to run?\n",
    "</font>"
   ]
  },
  {
   "cell_type": "code",
   "execution_count": null,
   "metadata": {},
   "outputs": [],
   "source": [
    "from xgboost import ...\n",
    "xgb = XGBClassifier( ... , ... , ... )\n",
    "%time xgb.fit( ... )\n",
    "..."
   ]
  },
  {
   "cell_type": "raw",
   "metadata": {},
   "source": [
    "... Enter your comment. "
   ]
  },
  {
   "cell_type": "markdown",
   "metadata": {},
   "source": [
    "<font color=\"red\">**Question 42**:\n",
    "    Increase the number of estimators (e.g. 1024) and visualize the impact on performance. You might have to adapt the learning rate.\n",
    "</font>"
   ]
  },
  {
   "cell_type": "code",
   "execution_count": null,
   "metadata": {},
   "outputs": [],
   "source": [
    "... # Fill here"
   ]
  },
  {
   "cell_type": "raw",
   "metadata": {},
   "source": [
    "... Enter your comment. "
   ]
  },
  {
   "cell_type": "markdown",
   "metadata": {},
   "source": [
    "# Features hashing and random forest"
   ]
  },
  {
   "cell_type": "markdown",
   "metadata": {},
   "source": [
    "We restart with raw features before dummy encoding: Xtrain, Xtest.\n",
    "<font color=\"red\">**Question 43**:\n",
    "    Display again the number of modalities per feature in Xtrain.\n",
    "</font>"
   ]
  },
  {
   "cell_type": "code",
   "execution_count": null,
   "metadata": {},
   "outputs": [],
   "source": []
  },
  {
   "cell_type": "markdown",
   "metadata": {},
   "source": [
    "We want to define a transformation which regroups the least frequent modalities into a label 'isRare'. In order to do so, we decide to define our own Transformer.\n",
    "<font color=\"red\">**Question 44**:\n",
    "    Understand the different steps of 'fit' and 'transform'.\n",
    "</font>"
   ]
  },
  {
   "cell_type": "code",
   "execution_count": null,
   "metadata": {},
   "outputs": [],
   "source": [
    "from sklearn.base import BaseEstimator, TransformerMixin\n",
    "\n",
    "class MergeRareTransformer(BaseEstimator, TransformerMixin):\n",
    "    \n",
    "    def __init__(self, col_names, threshold):\n",
    "        self.col_names = col_names\n",
    "        self.threshold = threshold\n",
    "\n",
    "    def fit(self, X, y=None):\n",
    "\n",
    "        X = pd.DataFrame(X)\n",
    "        counts_dict_list = []\n",
    "        ################## READ THIS #########################\n",
    "        for i in range(len(self.col_names)):\n",
    "            \n",
    "            serie = X[self.col_names[i]].value_counts()  # Série des counts de chaque modalité\n",
    "            rare_indexes = serie[serie<self.threshold[i]].index  # A quoi correspondent ces indices ?\n",
    "            frequent_indexes = serie[serie>=self.threshold[i]].index  # A quoi correspondent ces indices ?\n",
    "            dico = {x:'isRare' for x in rare_indexes}\n",
    "            dico.update({x: str(x) for x in frequent_indexes})\n",
    "            counts_dict_list.append(dico)   # Quel est le dictionnaire obtenu ?\n",
    "            \n",
    "        ######################################################\n",
    "            \n",
    "        self.counts_dict_list_ = counts_dict_list\n",
    "        return self\n",
    "\n",
    "    def transform(self, X):\n",
    "\n",
    "        Xt = pd.DataFrame()\n",
    "        ################## READ THIS #########################\n",
    "        for col, count_dict in zip(self.col_names, self.counts_dict_list_):\n",
    "            Xt[col] = X[col].apply(lambda x:count_dict[x] if x in count_dict else 'isRare')\n",
    "            # A quoi sert le \"else 'isRare'\" dans la transformation de la colonne ?\n",
    "        ######################################################\n",
    "\n",
    "        return Xt\n"
   ]
  },
  {
   "cell_type": "raw",
   "metadata": {},
   "source": [
    "... Enter your comment. "
   ]
  },
  {
   "cell_type": "markdown",
   "metadata": {},
   "source": [
    "<font color=\"red\">**Question 45:**\n",
    "    <br>\n",
    "    - Fit and transform the training set. To do so, merge all mmodalities occuring at least 20 times in each column.\n",
    "    <br>\n",
    "    - Transform the test set.\n",
    "</font>"
   ]
  },
  {
   "cell_type": "code",
   "execution_count": null,
   "metadata": {},
   "outputs": [],
   "source": [
    "mg = MergeRareTransformer(col_names=Xtrain.columns, threshold=[20]*len(Xtrain.columns))\n",
    "Xtrain_mg = ... # Fill here with fit_transform or fit then transform.\n",
    "Xtest_mg = "
   ]
  },
  {
   "cell_type": "markdown",
   "metadata": {},
   "source": [
    "<font color=\"red\">**Question 46:**\n",
    "   How many elements of the column Xtrain_mg['app_domain'] are now labeled as 'rare'?\n",
    "</font>"
   ]
  },
  {
   "cell_type": "code",
   "execution_count": null,
   "metadata": {},
   "outputs": [],
   "source": [
    "... # Fill here"
   ]
  },
  {
   "cell_type": "raw",
   "metadata": {},
   "source": [
    "... Enter your comment. "
   ]
  },
  {
   "cell_type": "markdown",
   "metadata": {},
   "source": [
    "<font color=\"red\">**Question 47:**\n",
    "   In the new train set, display the number of modalities for each feature.\n",
    "</font>"
   ]
  },
  {
   "cell_type": "code",
   "execution_count": null,
   "metadata": {},
   "outputs": [],
   "source": [
    "... # Fill here"
   ]
  },
  {
   "cell_type": "markdown",
   "metadata": {},
   "source": [
    "Modalities are arbitrary object, such as '234', 'isRare', etc. We will now transorm them into integers with the hashing trick.\n",
    "<font color=\"red\">**Question 48:**\n",
    "   To better understand how the 'hash' function is working, apply it to a string of your choice.\n",
    "</font>"
   ]
  },
  {
   "cell_type": "code",
   "execution_count": null,
   "metadata": {},
   "outputs": [],
   "source": [
    "import hashlib\n",
    "hash( ... ) # Fill here"
   ]
  },
  {
   "cell_type": "markdown",
   "metadata": {},
   "source": [
    "<font color=\"red\">**Question 49:**\n",
    "   Create two new datasets 'Xtrain_ha' and 'Xtest_ha' containing the output of the hashing process. Use the '.apply' method to transform iteratively the columns by mapping to each value its remainder in the euclidean division of the hash by 1000000. \n",
    "   Example:\n",
    "</font>\n",
    "</font>\n",
    "<p>\n",
    "<center>\n",
    "2060777048690<font color=\"red\">918393</font>  -->  918393\n",
    "</center>\n",
    "Remark: do not forget that the function 'hash' has to take a string as input."
   ]
  },
  {
   "cell_type": "code",
   "execution_count": null,
   "metadata": {},
   "outputs": [],
   "source": [
    "Xtrain_ha = pd.DataFrame()\n",
    "Xtest_ha = pd.DataFrame()\n",
    "for col in Xtrain_mg.columns:\n",
    "    Xtrain_ha[col] = Xtrain_mg[col].apply( ... ) # Fill here defining a lambda function\n",
    "    Xtest_ha[col] = Xtest_mg[col].apply( ... )"
   ]
  },
  {
   "cell_type": "markdown",
   "metadata": {},
   "source": [
    "<font color=\"red\">**Question 50:**\n",
    "   Visualize the content of the DataFrames you have obtained.\n",
    "</font>"
   ]
  },
  {
   "cell_type": "code",
   "execution_count": null,
   "metadata": {},
   "outputs": [],
   "source": [
    "... # Fill here"
   ]
  },
  {
   "cell_type": "markdown",
   "metadata": {},
   "source": [
    "<font color=\"red\">**Question 51:**\n",
    "    <br>\n",
    "    - Train a RandomForestClassifier on Xtrain_ha and evaluate its performance on Xtest_ha. One can chose 1024 estimators, min_samples_leaf=20 and verbose=1 in order to monitor the fitting step.\n",
    "    <br>\n",
    "</font>"
   ]
  },
  {
   "cell_type": "code",
   "execution_count": null,
   "metadata": {},
   "outputs": [],
   "source": [
    "from sklearn.ensemble import ... # Fill here\n",
    "rf = RandomForestClassifier( ... )\n",
    "rf.fit( ... )"
   ]
  },
  {
   "cell_type": "code",
   "execution_count": null,
   "metadata": {},
   "outputs": [],
   "source": [
    "soft = ...\n",
    "log_loss(...), roc_auc_score(...)"
   ]
  },
  {
   "cell_type": "markdown",
   "metadata": {},
   "source": [
    "<font color=\"red\">**Question 52:**\n",
    "   Compare with xgboost performance on the same hashed dataset.\n",
    "</font>"
   ]
  },
  {
   "cell_type": "code",
   "execution_count": null,
   "metadata": {},
   "outputs": [],
   "source": [
    "... # Fill here\n",
    "%time xgb.fit( ..., ... ) # the '%time' command will return the execution time of the fitting step\n",
    "..."
   ]
  },
  {
   "cell_type": "markdown",
   "metadata": {},
   "source": [
    "<font color=\"red\">**Question 53:**\n",
    "    Plot the ROC and the lift curves for the obtained classifier (xgboost on hashed data).\n",
    "</font>"
   ]
  },
  {
   "cell_type": "code",
   "execution_count": null,
   "metadata": {},
   "outputs": [],
   "source": [
    "# Plot the lift curve here"
   ]
  },
  {
   "cell_type": "code",
   "execution_count": null,
   "metadata": {},
   "outputs": [],
   "source": [
    "# Plot the ROC curve here"
   ]
  },
  {
   "cell_type": "markdown",
   "metadata": {},
   "source": [
    "Hashing produces columns of integers arbitrarily ordered. One can wonder if adding more columns hashed in a different fashion would lead to better performance. \n",
    "<font color=\"red\">**Question 54:**\n",
    "    Add hashed columns by recursively hashing the previous ones: complete the following code. \n",
    "</font>"
   ]
  },
  {
   "cell_type": "code",
   "execution_count": null,
   "metadata": {},
   "outputs": [],
   "source": [
    "Xtrain_haha = pd.DataFrame(Xtrain_ha).copy()\n",
    "Xtest_haha = pd.DataFrame(Xtest_ha).copy()\n",
    "\n",
    "n_hash = 3\n",
    "cols = Xtrain_ha.columns\n",
    "for l in range(n_hash):\n",
    "    for col in cols:\n",
    "        Xtrain_haha[col + '-hash'] = Xtrain_haha[col].apply( ... )\n",
    "        Xtest_haha[col + '-hash'] = Xtest_haha[col].apply( ... )\n",
    "    cols = [col + '-hash' for col in cols]"
   ]
  },
  {
   "cell_type": "markdown",
   "metadata": {},
   "source": [
    "<font color=\"red\">**Question 55:**\n",
    "    Evaluate the performance of a random forest and/or an xgboost clasifier on these enlarged dataset.\n",
    "</font>"
   ]
  },
  {
   "cell_type": "code",
   "execution_count": null,
   "metadata": {},
   "outputs": [],
   "source": [
    "... # Fill here"
   ]
  },
  {
   "cell_type": "markdown",
   "metadata": {},
   "source": [
    "<font color=\"red\">**Question 55:**\n",
    "    Compare the different models used in the TP.\n",
    "</font>"
   ]
  },
  {
   "cell_type": "raw",
   "metadata": {},
   "source": [
    "... Enter your comment. "
   ]
  },
  {
   "cell_type": "markdown",
   "metadata": {},
   "source": [
    "Good job! :-) "
   ]
  }
 ],
 "metadata": {
  "kernelspec": {
   "display_name": "Python 3",
   "language": "python",
   "name": "python3"
  },
  "language_info": {
   "codemirror_mode": {
    "name": "ipython",
    "version": 3
   },
   "file_extension": ".py",
   "mimetype": "text/x-python",
   "name": "python",
   "nbconvert_exporter": "python",
   "pygments_lexer": "ipython3",
   "version": "3.6.5"
  }
 },
 "nbformat": 4,
 "nbformat_minor": 2
}
